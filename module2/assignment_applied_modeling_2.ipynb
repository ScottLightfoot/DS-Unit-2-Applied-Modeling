{
 "cells": [
  {
   "cell_type": "markdown",
   "metadata": {
    "colab_type": "text",
    "id": "nCc3XZEyG3XV"
   },
   "source": [
    "Lambda School Data Science\n",
    "\n",
    "*Unit 2, Sprint 3, Module 2*\n",
    "\n",
    "---\n",
    "\n",
    "\n",
    "# Permutation & Boosting\n",
    "\n",
    "You will use your portfolio project dataset for all assignments this sprint.\n",
    "\n",
    "## Assignment\n",
    "\n",
    "Complete these tasks for your project, and document your work.\n",
    "\n",
    "- [ ] If you haven't completed assignment #1, please do so first.\n",
    "- [ ] Continue to clean and explore your data. Make exploratory visualizations.\n",
    "- [ ] Fit a model. Does it beat your baseline? \n",
    "- [ ] Try xgboost.\n",
    "- [ ] Get your model's permutation importances.\n",
    "\n",
    "You should try to complete an initial model today, because the rest of the week, we're making model interpretation visualizations.\n",
    "\n",
    "But, if you aren't ready to try xgboost and permutation importances with your dataset today, that's okay. You can practice with another dataset instead. You may choose any dataset you've worked with previously.\n",
    "\n",
    "The data subdirectory includes the Titanic dataset for classification and the NYC apartments dataset for regression. You may want to choose one of these datasets, because example solutions will be available for each.\n",
    "\n",
    "\n",
    "## Reading\n",
    "\n",
    "Top recommendations in _**bold italic:**_\n",
    "\n",
    "#### Permutation Importances\n",
    "- _**[Kaggle / Dan Becker: Machine Learning Explainability](https://www.kaggle.com/dansbecker/permutation-importance)**_\n",
    "- [Christoph Molnar: Interpretable Machine Learning](https://christophm.github.io/interpretable-ml-book/feature-importance.html)\n",
    "\n",
    "#### (Default) Feature Importances\n",
    "  - [Ando Saabas: Selecting good features, Part 3, Random Forests](https://blog.datadive.net/selecting-good-features-part-iii-random-forests/)\n",
    "  - [Terence Parr, et al: Beware Default Random Forest Importances](https://explained.ai/rf-importance/index.html)\n",
    "\n",
    "#### Gradient Boosting\n",
    "  - [A Gentle Introduction to the Gradient Boosting Algorithm for Machine Learning](https://machinelearningmastery.com/gentle-introduction-gradient-boosting-algorithm-machine-learning/)\n",
    "  - _**[A Kaggle Master Explains Gradient Boosting](http://blog.kaggle.com/2017/01/23/a-kaggle-master-explains-gradient-boosting/)**_\n",
    "  - [_An Introduction to Statistical Learning_](http://www-bcf.usc.edu/~gareth/ISL/ISLR%20Seventh%20Printing.pdf) Chapter 8\n",
    "  - [Gradient Boosting Explained](http://arogozhnikov.github.io/2016/06/24/gradient_boosting_explained.html)\n",
    "  - _**[Boosting](https://www.youtube.com/watch?v=GM3CDQfQ4sw) (2.5 minute video)**_"
   ]
  },
  {
   "cell_type": "code",
   "execution_count": 2,
   "metadata": {},
   "outputs": [],
   "source": [
    "## As my sets are not yet ready for use on this assignment, I'm pulling in the SalesDF from Unit2 s1-m3,\n",
    "## as it will provide practice with regression."
   ]
  },
  {
   "cell_type": "code",
   "execution_count": 1,
   "metadata": {},
   "outputs": [],
   "source": [
    "%%capture\n",
    "import sys\n",
    "\n",
    "# If you're on Colab:\n",
    "if 'google.colab' in sys.modules:\n",
    "    DATA_PATH = 'https://raw.githubusercontent.com/LambdaSchool/DS-Unit-2-Applied-Modeling/master/data/'\n",
    "    !pip install category_encoders==2.*\n",
    "    !pip install eli5\n",
    "\n",
    "# If you're working locally:\n",
    "else:\n",
    "    DATA_PATH = '../data/'    "
   ]
  },
  {
   "cell_type": "code",
   "execution_count": 6,
   "metadata": {},
   "outputs": [
    {
     "name": "stdout",
     "output_type": "stream",
     "text": [
      "# packages in environment at C:\\Users\\SLightfoot\\Anaconda3\\envs\\Unit2:\n",
      "#\n",
      "# Name                    Version                   Build  Channel\n",
      "_py-xgboost-mutex         2.0                       cpu_0  \n",
      "altair                    3.2.0                    py37_0    conda-forge\n",
      "asn1crypto                1.2.0                    py37_0    conda-forge\n",
      "astroid                   2.3.2                    py37_0    conda-forge\n",
      "astropy                   3.2.3                    pypi_0    pypi\n",
      "atomicwrites              1.3.0                    pypi_0    pypi\n",
      "attrs                     19.3.0                     py_0    conda-forge\n",
      "backcall                  0.1.0                      py_0    conda-forge\n",
      "blas                      1.0                         mkl  \n",
      "bleach                    3.1.0                      py_0    conda-forge\n",
      "bokeh                     1.3.4                    py37_0    conda-forge\n",
      "branca                    0.3.1                      py_0    conda-forge\n",
      "ca-certificates           2019.9.11            hecc5488_0    conda-forge\n",
      "category_encoders         2.1.0                      py_0    conda-forge\n",
      "certifi                   2019.9.11                py37_0    conda-forge\n",
      "cffi                      1.13.2           py37hb32ad35_0    conda-forge\n",
      "chardet                   3.0.4                 py37_1003    conda-forge\n",
      "click                     7.0                        py_0    conda-forge\n",
      "cloudpickle               1.2.2                      py_0    conda-forge\n",
      "colorama                  0.4.1                      py_0    conda-forge\n",
      "confuse                   1.0.0                      py_0    conda-forge\n",
      "cryptography              2.7              py37hb32ad35_0    conda-forge\n",
      "cycler                    0.10.0                     py_2    conda-forge\n",
      "cytoolz                   0.10.1           py37hfa6e2cd_0    conda-forge\n",
      "dask                      2.6.0                      py_0    conda-forge\n",
      "dask-core                 2.6.0                      py_0    conda-forge\n",
      "decorator                 4.4.1                      py_0    conda-forge\n",
      "defusedxml                0.6.0                      py_0    conda-forge\n",
      "distributed               2.6.0                      py_0    conda-forge\n",
      "eli5                      0.10.1                     py_0    conda-forge\n",
      "entrypoints               0.3                   py37_1000    conda-forge\n",
      "folium                    0.10.0                     py_0    conda-forge\n",
      "freetype                  2.10.0               h563cfd7_1    conda-forge\n",
      "fsspec                    0.5.2                      py_0    conda-forge\n",
      "graphviz                  2.38.0            h6538335_1011    conda-forge\n",
      "heapdict                  1.0.1                      py_0    conda-forge\n",
      "htmlmin                   0.1.12                   pypi_0    pypi\n",
      "icc_rt                    2019.0.0             h0cc432a_1  \n",
      "icu                       64.2                 he025d50_1    conda-forge\n",
      "idna                      2.8                   py37_1000    conda-forge\n",
      "imageio                   2.6.1                    py37_0    conda-forge\n",
      "importlib_metadata        0.23                     py37_0    conda-forge\n",
      "intel-openmp              2019.4                      245  \n",
      "ipykernel                 5.1.3            py37h5ca1d4c_0    conda-forge\n",
      "ipython                   7.9.0            py37h5ca1d4c_0    conda-forge\n",
      "ipython_genutils          0.2.0                      py_1    conda-forge\n",
      "ipywidgets                7.5.1                      py_0    conda-forge\n",
      "isort                     4.3.21                   py37_0    conda-forge\n",
      "jedi                      0.15.1                   py37_0    conda-forge\n",
      "jinja2                    2.10.3                     py_0    conda-forge\n",
      "joblib                    0.14.0                     py_0    conda-forge\n",
      "jpeg                      9c                hfa6e2cd_1001    conda-forge\n",
      "json5                     0.8.5                      py_0    conda-forge\n",
      "jsonschema                3.1.1                    py37_0    conda-forge\n",
      "jupyter_client            5.3.3                    py37_1    conda-forge\n",
      "jupyter_core              4.5.0                      py_0    conda-forge\n",
      "jupyterlab                1.2.1                      py_0    conda-forge\n",
      "jupyterlab-plotly-extension 1.0.0                      py_0    conda-forge\n",
      "jupyterlab_server         1.0.6                      py_0    conda-forge\n",
      "kaggle                    1.5.6                    pypi_0    pypi\n",
      "kiwisolver                1.1.0            py37he980bc4_0    conda-forge\n",
      "lazy-object-proxy         1.4.3            py37hfa6e2cd_0    conda-forge\n",
      "libblas                   3.8.0                    14_mkl    conda-forge\n",
      "libcblas                  3.8.0                    14_mkl    conda-forge\n",
      "libclang                  9.0.0                h74a9793_1    conda-forge\n",
      "liblapack                 3.8.0                    14_mkl    conda-forge\n",
      "libpng                    1.6.37               h7602738_0    conda-forge\n",
      "libsodium                 1.0.17               h2fa13f4_0    conda-forge\n",
      "libtiff                   4.1.0                h2e92f26_0    conda-forge\n",
      "libxgboost                0.90                          1  \n",
      "llvmlite                  0.30.0                   py37_0    conda-forge\n",
      "locket                    0.2.0                      py_2    conda-forge\n",
      "lz4-c                     1.8.3             he025d50_1001    conda-forge\n",
      "m2w64-gcc-libgfortran     5.3.0                         6  \n",
      "m2w64-gcc-libs            5.3.0                         7  \n",
      "m2w64-gcc-libs-core       5.3.0                         7  \n",
      "m2w64-gmp                 6.1.0                         2  \n",
      "m2w64-libwinpthread-git   5.0.0.4634.697f757               2  \n",
      "markupsafe                1.1.1            py37hfa6e2cd_0    conda-forge\n",
      "matplotlib                3.1.1                    py37_2    conda-forge\n",
      "matplotlib-base           3.1.1            py37h2981e6d_2    conda-forge\n",
      "mccabe                    0.6.1                      py_1    conda-forge\n",
      "missingno                 0.4.2                      py_0    conda-forge\n",
      "mistune                   0.8.4           py37hfa6e2cd_1000    conda-forge\n",
      "mkl                       2019.4                      245  \n",
      "mkl-service               2.3.0            py37hfa6e2cd_0    conda-forge\n",
      "more-itertools            7.2.0                      py_0    conda-forge\n",
      "msgpack-python            0.6.2            py37he980bc4_0    conda-forge\n",
      "msys2-conda-epoch         20160418                      1  \n",
      "nbconvert                 5.6.1                    py37_0    conda-forge\n",
      "nbformat                  4.4.0                      py_1    conda-forge\n",
      "networkx                  2.4                        py_0    conda-forge\n",
      "nodejs                    12.12.0                       0    conda-forge\n",
      "notebook                  6.0.1                    py37_0    conda-forge\n",
      "numba                     0.46.0           py37hf9181ef_0  \n",
      "numpy                     1.17.3           py37hc71023c_0    conda-forge\n",
      "olefile                   0.46                       py_0    conda-forge\n",
      "openssl                   1.1.1d               he774522_3  \n",
      "packaging                 19.2                       py_0    conda-forge\n",
      "pandas                    0.25.3           py37he350917_0    conda-forge\n",
      "pandas-profiling          2.3.0                      py_0    conda-forge\n",
      "pandoc                    2.7.3                         0    conda-forge\n",
      "pandocfilters             1.4.2                      py_1    conda-forge\n",
      "parso                     0.5.1                      py_0    conda-forge\n",
      "partd                     1.0.0                      py_0    conda-forge\n",
      "patsy                     0.5.1                      py_0    conda-forge\n",
      "pdpbox                    0.2.0                      py_0    conda-forge\n",
      "phik                      0.9.8                      py_0    conda-forge\n",
      "pickleshare               0.7.5                 py37_1000    conda-forge\n",
      "pillow                    6.2.1            py37h643dfcc_0    conda-forge\n",
      "pip                       19.3.1                   py37_0  \n",
      "plotly                    4.2.1                      py_0    conda-forge\n",
      "plotly_express            0.4.1                      py_0    conda-forge\n",
      "pluggy                    0.13.0                   py37_0    conda-forge\n",
      "prometheus_client         0.7.1                      py_0    conda-forge\n",
      "prompt_toolkit            2.0.10                     py_0    conda-forge\n",
      "psutil                    5.6.4            py37hfa6e2cd_0    conda-forge\n",
      "py                        1.8.0                      py_0    conda-forge\n",
      "py-xgboost                0.90                     py37_1  \n",
      "py-xgboost-cpu            0.90                     py37_1  \n",
      "pycparser                 2.19                     py37_1    conda-forge\n",
      "pygments                  2.4.2                      py_0    conda-forge\n",
      "pylint                    2.4.3                    py37_0    conda-forge\n",
      "pyopenssl                 19.0.0                   py37_0    conda-forge\n",
      "pyparsing                 2.4.2                      py_0    conda-forge\n",
      "pyqt                      5.12.3           py37h6538335_0    conda-forge\n",
      "pyqt5-sip                 4.19.18                  pypi_0    pypi\n",
      "pyqtwebengine             5.12.1                   pypi_0    pypi\n",
      "pyrsistent                0.15.5           py37hfa6e2cd_0    conda-forge\n",
      "pysocks                   1.7.1                    py37_0    conda-forge\n",
      "pytest                    5.2.2                    pypi_0    pypi\n",
      "pytest-arraydiff          0.3                        py_0    conda-forge\n",
      "pytest-astropy            0.6.0                      py_0    conda-forge\n",
      "pytest-astropy-header     0.1.1                      py_0    conda-forge\n",
      "pytest-doctestplus        0.4.0                      py_0    conda-forge\n",
      "pytest-openfiles          0.4.0                      py_0    conda-forge\n",
      "pytest-pylint             0.14.1                     py_0    conda-forge\n",
      "pytest-remotedata         0.3.1                      py_0    conda-forge\n",
      "pytest-runner             5.2                        py_0    conda-forge\n",
      "python                    3.7.5                h8c8aaf0_0  \n",
      "python-dateutil           2.8.1                      py_0    conda-forge\n",
      "python-graphviz           0.13                       py_0    conda-forge\n",
      "python-slugify            4.0.0                    pypi_0    pypi\n",
      "pytz                      2019.3                     py_0    conda-forge\n",
      "pywavelets                1.1.1            py37hc8d92b1_0    conda-forge\n",
      "pywin32                   225              py37hfa6e2cd_0    conda-forge\n",
      "pywinpty                  0.5.5                 py37_1000    conda-forge\n",
      "pyyaml                    5.1.2            py37hfa6e2cd_0    conda-forge\n",
      "pyzmq                     18.1.0           py37h16f9016_0    conda-forge\n",
      "qt                        5.12.5               h7ef1ec2_0    conda-forge\n",
      "requests                  2.22.0                   py37_1    conda-forge\n",
      "retrying                  1.3.3                      py_2    conda-forge\n",
      "scikit-image              0.16.2           py37he350917_0    conda-forge\n",
      "scikit-learn              0.21.3           py37h7208079_0    conda-forge\n",
      "scipy                     1.3.1            py37h29ff71c_0  \n",
      "seaborn                   0.9.0                      py_1    conda-forge\n",
      "send2trash                1.5.0                      py_0    conda-forge\n",
      "setuptools                41.6.0                   py37_0  \n",
      "shap                      0.31.0           py37he350917_0    conda-forge\n",
      "singledispatch            3.4.0.3               py37_1000    conda-forge\n",
      "six                       1.12.0                py37_1001    conda-forge\n",
      "sortedcontainers          2.1.0                      py_0    conda-forge\n",
      "sqlite                    3.30.1               he774522_0  \n",
      "statsmodels               0.10.1           py37hfa6e2cd_1    conda-forge\n",
      "swifter                   0.294                    py37_0    conda-forge\n",
      "tabulate                  0.8.5                      py_0    conda-forge\n",
      "tbb                       2019.9               he980bc4_0    conda-forge\n",
      "tblib                     1.4.0                      py_0    conda-forge\n",
      "terminado                 0.8.2                    py37_0    conda-forge\n",
      "testpath                  0.4.3                      py_0    conda-forge\n",
      "text-unidecode            1.3                      pypi_0    pypi\n",
      "tk                        8.6.9             hfa6e2cd_1003    conda-forge\n",
      "toolz                     0.10.0                     py_0    conda-forge\n",
      "tornado                   6.0.3            py37hfa6e2cd_0    conda-forge\n",
      "tqdm                      4.36.1                     py_0    conda-forge\n",
      "traitlets                 4.3.3                    py37_0    conda-forge\n",
      "typing                    3.6.4                    py37_0  \n",
      "urllib3                   1.24.3                   pypi_0    pypi\n",
      "vc                        14.1                 h0510ff6_4  \n",
      "vincent                   0.4.4                      py_1    conda-forge\n",
      "vs2015_runtime            14.16.27012          hf0eaf9b_0  \n",
      "wcwidth                   0.1.7                      py_1    conda-forge\n",
      "webencodings              0.5.1                      py_1    conda-forge\n",
      "wheel                     0.33.6                   py37_0  \n",
      "widgetsnbextension        3.5.1                    py37_0    conda-forge\n",
      "win_inet_pton             1.1.0                    py37_0    conda-forge\n",
      "wincertstore              0.2                      py37_0  \n",
      "winpty                    0.4.3                         4    conda-forge\n",
      "wrapt                     1.11.2           py37hfa6e2cd_0    conda-forge\n",
      "xz                        5.2.4             h2fa13f4_1001    conda-forge\n",
      "yaml                      0.1.7             hfa6e2cd_1001    conda-forge\n",
      "zeromq                    4.3.2                h6538335_2    conda-forge\n",
      "zict                      1.0.0                      py_0    conda-forge\n",
      "zipp                      0.6.0                      py_0    conda-forge\n",
      "zlib                      1.2.11            h2fa13f4_1006    conda-forge\n",
      "zstd                      1.4.3                hd8a0e53_0    conda-forge\n",
      "\n",
      "Note: you may need to restart the kernel to use updated packages.\n"
     ]
    }
   ],
   "source": [
    "conda list"
   ]
  },
  {
   "cell_type": "code",
   "execution_count": 5,
   "metadata": {},
   "outputs": [
    {
     "ename": "ImportError",
     "evalue": "DLL load failed: The specified module could not be found.",
     "output_type": "error",
     "traceback": [
      "\u001b[1;31m---------------------------------------------------------------------------\u001b[0m",
      "\u001b[1;31mImportError\u001b[0m                               Traceback (most recent call last)",
      "\u001b[1;32m<ipython-input-5-864e826dab68>\u001b[0m in \u001b[0;36m<module>\u001b[1;34m\u001b[0m\n\u001b[1;32m----> 1\u001b[1;33m \u001b[1;32mimport\u001b[0m \u001b[0mmatplotlib\u001b[0m\u001b[1;33m.\u001b[0m\u001b[0mpyplot\u001b[0m\u001b[1;33m\u001b[0m\u001b[1;33m\u001b[0m\u001b[0m\n\u001b[0m",
      "\u001b[1;32m~\\Anaconda3\\envs\\Unit2\\lib\\site-packages\\matplotlib\\pyplot.py\u001b[0m in \u001b[0;36m<module>\u001b[1;34m\u001b[0m\n\u001b[0;32m   2353\u001b[0m     \u001b[0mdict\u001b[0m\u001b[1;33m.\u001b[0m\u001b[0m__setitem__\u001b[0m\u001b[1;33m(\u001b[0m\u001b[0mrcParams\u001b[0m\u001b[1;33m,\u001b[0m \u001b[1;34m\"backend\"\u001b[0m\u001b[1;33m,\u001b[0m \u001b[0mrcsetup\u001b[0m\u001b[1;33m.\u001b[0m\u001b[0m_auto_backend_sentinel\u001b[0m\u001b[1;33m)\u001b[0m\u001b[1;33m\u001b[0m\u001b[1;33m\u001b[0m\u001b[0m\n\u001b[0;32m   2354\u001b[0m \u001b[1;31m# Set up the backend.\u001b[0m\u001b[1;33m\u001b[0m\u001b[1;33m\u001b[0m\u001b[1;33m\u001b[0m\u001b[0m\n\u001b[1;32m-> 2355\u001b[1;33m \u001b[0mswitch_backend\u001b[0m\u001b[1;33m(\u001b[0m\u001b[0mrcParams\u001b[0m\u001b[1;33m[\u001b[0m\u001b[1;34m\"backend\"\u001b[0m\u001b[1;33m]\u001b[0m\u001b[1;33m)\u001b[0m\u001b[1;33m\u001b[0m\u001b[1;33m\u001b[0m\u001b[0m\n\u001b[0m\u001b[0;32m   2356\u001b[0m \u001b[1;33m\u001b[0m\u001b[0m\n\u001b[0;32m   2357\u001b[0m \u001b[1;31m# Just to be safe.  Interactive mode can be turned on without\u001b[0m\u001b[1;33m\u001b[0m\u001b[1;33m\u001b[0m\u001b[1;33m\u001b[0m\u001b[0m\n",
      "\u001b[1;32m~\\Anaconda3\\envs\\Unit2\\lib\\site-packages\\matplotlib\\pyplot.py\u001b[0m in \u001b[0;36mswitch_backend\u001b[1;34m(newbackend)\u001b[0m\n\u001b[0;32m    219\u001b[0m         else \"matplotlib.backends.backend_{}\".format(newbackend.lower()))\n\u001b[0;32m    220\u001b[0m \u001b[1;33m\u001b[0m\u001b[0m\n\u001b[1;32m--> 221\u001b[1;33m     \u001b[0mbackend_mod\u001b[0m \u001b[1;33m=\u001b[0m \u001b[0mimportlib\u001b[0m\u001b[1;33m.\u001b[0m\u001b[0mimport_module\u001b[0m\u001b[1;33m(\u001b[0m\u001b[0mbackend_name\u001b[0m\u001b[1;33m)\u001b[0m\u001b[1;33m\u001b[0m\u001b[1;33m\u001b[0m\u001b[0m\n\u001b[0m\u001b[0;32m    222\u001b[0m     Backend = type(\n\u001b[0;32m    223\u001b[0m         \"Backend\", (matplotlib.backends._Backend,), vars(backend_mod))\n",
      "\u001b[1;32m~\\Anaconda3\\envs\\Unit2\\lib\\importlib\\__init__.py\u001b[0m in \u001b[0;36mimport_module\u001b[1;34m(name, package)\u001b[0m\n\u001b[0;32m    125\u001b[0m                 \u001b[1;32mbreak\u001b[0m\u001b[1;33m\u001b[0m\u001b[1;33m\u001b[0m\u001b[0m\n\u001b[0;32m    126\u001b[0m             \u001b[0mlevel\u001b[0m \u001b[1;33m+=\u001b[0m \u001b[1;36m1\u001b[0m\u001b[1;33m\u001b[0m\u001b[1;33m\u001b[0m\u001b[0m\n\u001b[1;32m--> 127\u001b[1;33m     \u001b[1;32mreturn\u001b[0m \u001b[0m_bootstrap\u001b[0m\u001b[1;33m.\u001b[0m\u001b[0m_gcd_import\u001b[0m\u001b[1;33m(\u001b[0m\u001b[0mname\u001b[0m\u001b[1;33m[\u001b[0m\u001b[0mlevel\u001b[0m\u001b[1;33m:\u001b[0m\u001b[1;33m]\u001b[0m\u001b[1;33m,\u001b[0m \u001b[0mpackage\u001b[0m\u001b[1;33m,\u001b[0m \u001b[0mlevel\u001b[0m\u001b[1;33m)\u001b[0m\u001b[1;33m\u001b[0m\u001b[1;33m\u001b[0m\u001b[0m\n\u001b[0m\u001b[0;32m    128\u001b[0m \u001b[1;33m\u001b[0m\u001b[0m\n\u001b[0;32m    129\u001b[0m \u001b[1;33m\u001b[0m\u001b[0m\n",
      "\u001b[1;32m~\\Anaconda3\\envs\\Unit2\\lib\\site-packages\\ipykernel\\pylab\\backend_inline.py\u001b[0m in \u001b[0;36m<module>\u001b[1;34m\u001b[0m\n\u001b[0;32m      7\u001b[0m \u001b[1;33m\u001b[0m\u001b[0m\n\u001b[0;32m      8\u001b[0m \u001b[1;32mimport\u001b[0m \u001b[0mmatplotlib\u001b[0m\u001b[1;33m\u001b[0m\u001b[1;33m\u001b[0m\u001b[0m\n\u001b[1;32m----> 9\u001b[1;33m \u001b[1;32mfrom\u001b[0m \u001b[0mmatplotlib\u001b[0m\u001b[1;33m.\u001b[0m\u001b[0mbackends\u001b[0m\u001b[1;33m.\u001b[0m\u001b[0mbackend_agg\u001b[0m \u001b[1;32mimport\u001b[0m \u001b[0mnew_figure_manager\u001b[0m\u001b[1;33m,\u001b[0m \u001b[0mFigureCanvasAgg\u001b[0m \u001b[1;31m# analysis: ignore\u001b[0m\u001b[1;33m\u001b[0m\u001b[1;33m\u001b[0m\u001b[0m\n\u001b[0m\u001b[0;32m     10\u001b[0m \u001b[1;32mfrom\u001b[0m \u001b[0mmatplotlib\u001b[0m \u001b[1;32mimport\u001b[0m \u001b[0mcolors\u001b[0m\u001b[1;33m\u001b[0m\u001b[1;33m\u001b[0m\u001b[0m\n\u001b[0;32m     11\u001b[0m \u001b[1;32mfrom\u001b[0m \u001b[0mmatplotlib\u001b[0m\u001b[1;33m.\u001b[0m\u001b[0m_pylab_helpers\u001b[0m \u001b[1;32mimport\u001b[0m \u001b[0mGcf\u001b[0m\u001b[1;33m\u001b[0m\u001b[1;33m\u001b[0m\u001b[0m\n",
      "\u001b[1;32m~\\Anaconda3\\envs\\Unit2\\lib\\site-packages\\matplotlib\\backends\\backend_agg.py\u001b[0m in \u001b[0;36m<module>\u001b[1;34m\u001b[0m\n\u001b[0;32m     43\u001b[0m \u001b[1;33m\u001b[0m\u001b[0m\n\u001b[0;32m     44\u001b[0m \u001b[1;32mif\u001b[0m \u001b[0m_has_pil\u001b[0m\u001b[1;33m:\u001b[0m\u001b[1;33m\u001b[0m\u001b[1;33m\u001b[0m\u001b[0m\n\u001b[1;32m---> 45\u001b[1;33m     \u001b[1;32mfrom\u001b[0m \u001b[0mPIL\u001b[0m \u001b[1;32mimport\u001b[0m \u001b[0mImage\u001b[0m\u001b[1;33m\u001b[0m\u001b[1;33m\u001b[0m\u001b[0m\n\u001b[0m\u001b[0;32m     46\u001b[0m \u001b[1;33m\u001b[0m\u001b[0m\n\u001b[0;32m     47\u001b[0m \u001b[0mbackend_version\u001b[0m \u001b[1;33m=\u001b[0m \u001b[1;34m'v2.2'\u001b[0m\u001b[1;33m\u001b[0m\u001b[1;33m\u001b[0m\u001b[0m\n",
      "\u001b[1;32m~\\Anaconda3\\envs\\Unit2\\lib\\site-packages\\PIL\\Image.py\u001b[0m in \u001b[0;36m<module>\u001b[1;34m\u001b[0m\n\u001b[0;32m     88\u001b[0m     \u001b[1;31m# Also note that Image.core is not a publicly documented interface,\u001b[0m\u001b[1;33m\u001b[0m\u001b[1;33m\u001b[0m\u001b[1;33m\u001b[0m\u001b[0m\n\u001b[0;32m     89\u001b[0m     \u001b[1;31m# and should be considered private and subject to change.\u001b[0m\u001b[1;33m\u001b[0m\u001b[1;33m\u001b[0m\u001b[1;33m\u001b[0m\u001b[0m\n\u001b[1;32m---> 90\u001b[1;33m     \u001b[1;32mfrom\u001b[0m \u001b[1;33m.\u001b[0m \u001b[1;32mimport\u001b[0m \u001b[0m_imaging\u001b[0m \u001b[1;32mas\u001b[0m \u001b[0mcore\u001b[0m\u001b[1;33m\u001b[0m\u001b[1;33m\u001b[0m\u001b[0m\n\u001b[0m\u001b[0;32m     91\u001b[0m \u001b[1;33m\u001b[0m\u001b[0m\n\u001b[0;32m     92\u001b[0m     \u001b[1;32mif\u001b[0m \u001b[0m__version__\u001b[0m \u001b[1;33m!=\u001b[0m \u001b[0mgetattr\u001b[0m\u001b[1;33m(\u001b[0m\u001b[0mcore\u001b[0m\u001b[1;33m,\u001b[0m \u001b[1;34m\"PILLOW_VERSION\"\u001b[0m\u001b[1;33m,\u001b[0m \u001b[1;32mNone\u001b[0m\u001b[1;33m)\u001b[0m\u001b[1;33m:\u001b[0m\u001b[1;33m\u001b[0m\u001b[1;33m\u001b[0m\u001b[0m\n",
      "\u001b[1;31mImportError\u001b[0m: DLL load failed: The specified module could not be found."
     ]
    }
   ],
   "source": [
    "import matplotlib.pyplot"
   ]
  },
  {
   "cell_type": "code",
   "execution_count": 3,
   "metadata": {},
   "outputs": [],
   "source": [
    "import pandas as pd\n",
    "import numpy as np\n",
    "import category_encoders as ce\n",
    "# import matplotlib.pyplot as plt\n",
    "import eli5\n",
    "\n",
    "from sklearn.model_selection import train_test_split\n",
    "from sklearn.impute import SimpleImputer\n",
    "from sklearn.ensemble import RandomForestRegressor\n",
    "from sklearn.pipeline import make_pipeline\n",
    "from sklearn.metrics import mean_absolute_error as meanAbErr\n",
    "from sklearn.metrics import mean_squared_error as meanSqErr\n",
    "\n",
    "from eli5.sklearn import PermutationImportance\n",
    "from xgboost import XGBRegressor"
   ]
  },
  {
   "cell_type": "code",
   "execution_count": 14,
   "metadata": {},
   "outputs": [],
   "source": [
    "# Import\n",
    "df = pd.read_csv(DATA_PATH+'condos/NYC_Citywide_Rolling_Calendar_Sales.csv')"
   ]
  },
  {
   "cell_type": "code",
   "execution_count": 15,
   "metadata": {},
   "outputs": [],
   "source": [
    "## REAL TALK HERE:\n",
    "##     Doing a fair amount of copy/paste from 2-1-3 just to get going on today's assignment!"
   ]
  },
  {
   "cell_type": "code",
   "execution_count": 16,
   "metadata": {},
   "outputs": [],
   "source": [
    "# Change column names: replace spaces with underscores\n",
    "df.columns = [col.replace(' ', '_') for col in df]\n",
    "\n",
    "# SALE_PRICE was read as strings.\n",
    "# Remove symbols, convert to integer\n",
    "df['SALE_PRICE'] = (\n",
    "    df['SALE_PRICE']\n",
    "    .str.replace('$','')\n",
    "    .str.replace('-','')\n",
    "    .str.replace(',','')\n",
    "    .astype(int)\n",
    ")\n",
    "\n",
    "df['BOROUGH'] = df['BOROUGH'].astype(str)\n",
    "\n",
    "top10 = df['NEIGHBORHOOD'].value_counts()[:10].index\n",
    "df.loc[~df['NEIGHBORHOOD'].isin(top10), 'NEIGHBORHOOD'] = 'OTHER'\n",
    "\n",
    "df['YEAR_BUILT'] = df['YEAR_BUILT'].ffill().astype(int)\n",
    "\n",
    "df['SALE_DATE'] = pd.to_datetime(df['SALE_DATE'])"
   ]
  },
  {
   "cell_type": "code",
   "execution_count": 17,
   "metadata": {},
   "outputs": [
    {
     "data": {
      "text/plain": [
       "count                   23040\n",
       "unique                    120\n",
       "top       2019-01-24 00:00:00\n",
       "freq                      480\n",
       "first     2019-01-01 00:00:00\n",
       "last      2019-04-30 00:00:00\n",
       "Name: SALE_DATE, dtype: object"
      ]
     },
     "execution_count": 17,
     "metadata": {},
     "output_type": "execute_result"
    }
   ],
   "source": [
    "df['SALE_DATE'].describe()"
   ]
  },
  {
   "cell_type": "code",
   "execution_count": 19,
   "metadata": {},
   "outputs": [],
   "source": [
    "train = df[df['SALE_DATE'] < pd.datetime(2019, 4, 1)]\n",
    "test = df[df['SALE_DATE'] >= pd.datetime(2019, 4, 1)]\n",
    "assert(len(train) + len(test) == len(df))"
   ]
  },
  {
   "cell_type": "code",
   "execution_count": 20,
   "metadata": {},
   "outputs": [],
   "source": [
    "target = 'SALE_PRICE'\n",
    "badObjCols = ['TAX_CLASS_AT_PRESENT', 'BUILDING_CLASS_AT_PRESENT', \n",
    "           'ADDRESS', 'APARTMENT_NUMBER', 'LAND_SQUARE_FEET',\n",
    "           'BUILDING_CLASS_AT_TIME_OF_SALE', 'SALE_DATE', 'EASE-MENT']\n",
    "\n",
    "features = train.columns.drop([target] + badObjCols)"
   ]
  },
  {
   "cell_type": "code",
   "execution_count": 21,
   "metadata": {},
   "outputs": [
    {
     "data": {
      "text/plain": [
       "Index(['BOROUGH', 'NEIGHBORHOOD', 'BUILDING_CLASS_CATEGORY', 'BLOCK', 'LOT',\n",
       "       'ZIP_CODE', 'RESIDENTIAL_UNITS', 'COMMERCIAL_UNITS', 'TOTAL_UNITS',\n",
       "       'GROSS_SQUARE_FEET', 'YEAR_BUILT', 'TAX_CLASS_AT_TIME_OF_SALE'],\n",
       "      dtype='object')"
      ]
     },
     "execution_count": 21,
     "metadata": {},
     "output_type": "execute_result"
    }
   ],
   "source": [
    "features"
   ]
  },
  {
   "cell_type": "code",
   "execution_count": 22,
   "metadata": {},
   "outputs": [],
   "source": [
    "train, val = train_test_split(train, train_size=0.8, test_size=0.2,\n",
    "                              random_state=55)"
   ]
  },
  {
   "cell_type": "code",
   "execution_count": 62,
   "metadata": {},
   "outputs": [],
   "source": [
    "X_train = train[features]\n",
    "X_val = val[features]\n",
    "X_test = test[features]\n",
    "\n",
    "y_train = train[target]\n",
    "y_val = val[target]\n",
    "y_test = test[target]"
   ]
  },
  {
   "cell_type": "code",
   "execution_count": 63,
   "metadata": {},
   "outputs": [],
   "source": [
    "y_baseline = [y_test.mean()] * len(y_test)"
   ]
  },
  {
   "cell_type": "code",
   "execution_count": 95,
   "metadata": {},
   "outputs": [],
   "source": [
    "pipeline = make_pipeline(\n",
    "    ce.OrdinalEncoder(), \n",
    "    SimpleImputer(strategy='mean'), \n",
    "    RandomForestRegressor(n_estimators=100, random_state=55, n_jobs=-2)\n",
    ")"
   ]
  },
  {
   "cell_type": "code",
   "execution_count": 96,
   "metadata": {},
   "outputs": [
    {
     "data": {
      "text/plain": [
       "Pipeline(memory=None,\n",
       "         steps=[('ordinalencoder',\n",
       "                 OrdinalEncoder(cols=['BOROUGH', 'NEIGHBORHOOD',\n",
       "                                      'BUILDING_CLASS_CATEGORY'],\n",
       "                                drop_invariant=False, handle_missing='value',\n",
       "                                handle_unknown='value',\n",
       "                                mapping=[{'col': 'BOROUGH',\n",
       "                                          'data_type': dtype('O'),\n",
       "                                          'mapping': 3      1\n",
       "4      2\n",
       "1      3\n",
       "2      4\n",
       "5      5\n",
       "NaN   -2\n",
       "dtype: int64},\n",
       "                                         {'col': 'NEIGHBORHOOD',\n",
       "                                          'data_type': dtype('O'),\n",
       "                                          'mapping': OTHER                       1\n",
       "FLUSHING-NORTH              2\n",
       "U...\n",
       "                ('randomforestregressor',\n",
       "                 RandomForestRegressor(bootstrap=True, criterion='mse',\n",
       "                                       max_depth=None, max_features='auto',\n",
       "                                       max_leaf_nodes=None,\n",
       "                                       min_impurity_decrease=0.0,\n",
       "                                       min_impurity_split=None,\n",
       "                                       min_samples_leaf=1, min_samples_split=2,\n",
       "                                       min_weight_fraction_leaf=0.0,\n",
       "                                       n_estimators=100, n_jobs=-2,\n",
       "                                       oob_score=False, random_state=55,\n",
       "                                       verbose=0, warm_start=False))],\n",
       "         verbose=False)"
      ]
     },
     "execution_count": 96,
     "metadata": {},
     "output_type": "execute_result"
    }
   ],
   "source": [
    "pipeline.fit(X_train, y_train)"
   ]
  },
  {
   "cell_type": "code",
   "execution_count": 97,
   "metadata": {},
   "outputs": [
    {
     "name": "stdout",
     "output_type": "stream",
     "text": [
      "Validation Absolute Err: $1,129,931\n",
      "SqRt of MeanSqErr: $9,036,081\n",
      "\n",
      "Test Absolute Err: $1,916,845\n",
      "SqRt of MeanSqErr: $9,075,663\n",
      "\n"
     ]
    }
   ],
   "source": [
    "y_val_pred = pipeline.predict(X_val)\n",
    "y_test_pred = pipeline.predict(X_test)\n",
    "\n",
    "val_mae = meanAbErr(y_val, y_val_pred)\n",
    "val_mse = meanSqErr(y_val, y_val_pred)\n",
    "val_rmse = val_mse**.5\n",
    "test_mae = meanAbErr(y_test, y_test_pred)\n",
    "test_mse = meanSqErr(y_test, y_test_pred)\n",
    "test_rmse = test_mse**.5\n",
    "\n",
    "print(f'Validation Absolute Err: ${val_mae:,.0f}\\nSqRt of MeanSqErr: ${val_rmse:,.0f}\\n')\n",
    "print(f'Test Absolute Err: ${test_mae:,.0f}\\nSqRt of MeanSqErr: ${test_rmse:,.0f}\\n')"
   ]
  },
  {
   "cell_type": "code",
   "execution_count": 67,
   "metadata": {},
   "outputs": [
    {
     "data": {
      "image/png": "[encoded data removed]",
      "text/plain": [
       "<Figure size 720x432 with 1 Axes>"
      ]
     },
     "metadata": {
      "needs_background": "light"
     },
     "output_type": "display_data"
    }
   ],
   "source": [
    "# Get feature importances\n",
    "rf = pipeline.named_steps['randomforestregressor']\n",
    "importances = pd.Series(rf.feature_importances_, X_train.columns)\n",
    "\n",
    "n = len(features)\n",
    "plt.figure(figsize=(10,n/2))\n",
    "plt.title(f'Top {n} features')\n",
    "importances.sort_values()[-n:].plot.barh(color='grey');"
   ]
  },
  {
   "cell_type": "code",
   "execution_count": 68,
   "metadata": {},
   "outputs": [
    {
     "data": {
      "text/plain": [
       "RandomForestRegressor(bootstrap=True, criterion='mse', max_depth=None,\n",
       "                      max_features='auto', max_leaf_nodes=None,\n",
       "                      min_impurity_decrease=0.0, min_impurity_split=None,\n",
       "                      min_samples_leaf=1, min_samples_split=2,\n",
       "                      min_weight_fraction_leaf=0.0, n_estimators=100, n_jobs=-2,\n",
       "                      oob_score=False, random_state=55, verbose=0,\n",
       "                      warm_start=False)"
      ]
     },
     "execution_count": 68,
     "metadata": {},
     "output_type": "execute_result"
    }
   ],
   "source": [
    "transformers = make_pipeline(\n",
    "    ce.OrdinalEncoder(), \n",
    "    SimpleImputer(strategy='mean')\n",
    ")\n",
    "\n",
    "X_train_transformed = transformers.fit_transform(X_train)\n",
    "X_val_transformed = transformers.transform(X_val)\n",
    "\n",
    "model = RandomForestRegressor(n_estimators=100, random_state=55, n_jobs=-2)\n",
    "model.fit(X_train_transformed, y_train)"
   ]
  },
  {
   "cell_type": "code",
   "execution_count": 69,
   "metadata": {},
   "outputs": [
    {
     "data": {
      "text/plain": [
       "PermutationImportance(cv='prefit',\n",
       "                      estimator=RandomForestRegressor(bootstrap=True,\n",
       "                                                      criterion='mse',\n",
       "                                                      max_depth=None,\n",
       "                                                      max_features='auto',\n",
       "                                                      max_leaf_nodes=None,\n",
       "                                                      min_impurity_decrease=0.0,\n",
       "                                                      min_impurity_split=None,\n",
       "                                                      min_samples_leaf=1,\n",
       "                                                      min_samples_split=2,\n",
       "                                                      min_weight_fraction_leaf=0.0,\n",
       "                                                      n_estimators=100,\n",
       "                                                      n_jobs=-2,\n",
       "                                                      oob_score=False,\n",
       "                                                      random_state=55,\n",
       "                                                      verbose=0,\n",
       "                                                      warm_start=False),\n",
       "                      n_iter=5, random_state=55, refit=True, scoring=None)"
      ]
     },
     "execution_count": 69,
     "metadata": {},
     "output_type": "execute_result"
    }
   ],
   "source": [
    "permuter = PermutationImportance(\n",
    "    model,\n",
    "    n_iter=5, \n",
    "    random_state=55\n",
    ")\n",
    "\n",
    "permuter.fit(X_val_transformed, y_val)"
   ]
  },
  {
   "cell_type": "code",
   "execution_count": 70,
   "metadata": {},
   "outputs": [
    {
     "data": {
      "text/plain": [
       "GROSS_SQUARE_FEET            0.691751\n",
       "ZIP_CODE                     0.123471\n",
       "COMMERCIAL_UNITS             0.026719\n",
       "TAX_CLASS_AT_TIME_OF_SALE    0.005574\n",
       "RESIDENTIAL_UNITS            0.004775\n",
       "TOTAL_UNITS                  0.003180\n",
       "BOROUGH                      0.002390\n",
       "BLOCK                        0.000176\n",
       "LOT                          0.000057\n",
       "NEIGHBORHOOD                -0.001153\n",
       "BUILDING_CLASS_CATEGORY     -0.009919\n",
       "YEAR_BUILT                  -0.015150\n",
       "dtype: float64"
      ]
     },
     "execution_count": 70,
     "metadata": {},
     "output_type": "execute_result"
    }
   ],
   "source": [
    "feature_names = X_val.columns.tolist()\n",
    "pd.Series(permuter.feature_importances_, feature_names).sort_values(ascending=False)"
   ]
  },
  {
   "cell_type": "code",
   "execution_count": 71,
   "metadata": {},
   "outputs": [
    {
     "data": {
      "text/html": [
       "\n",
       "    <style>\n",
       "    table.eli5-weights tr:hover {\n",
       "        filter: brightness(85%);\n",
       "    }\n",
       "</style>\n",
       "\n",
       "\n",
       "\n",
       "    \n",
       "\n",
       "    \n",
       "\n",
       "    \n",
       "\n",
       "    \n",
       "\n",
       "    \n",
       "\n",
       "    \n",
       "\n",
       "\n",
       "    \n",
       "\n",
       "    \n",
       "\n",
       "    \n",
       "\n",
       "    \n",
       "\n",
       "    \n",
       "\n",
       "    \n",
       "\n",
       "\n",
       "    \n",
       "\n",
       "    \n",
       "\n",
       "    \n",
       "\n",
       "    \n",
       "\n",
       "    \n",
       "        <table class=\"eli5-weights eli5-feature-importances\" style=\"border-collapse: collapse; border: none; margin-top: 0em; table-layout: auto;\">\n",
       "    <thead>\n",
       "    <tr style=\"border: none;\">\n",
       "        <th style=\"padding: 0 1em 0 0.5em; text-align: right; border: none;\">Weight</th>\n",
       "        <th style=\"padding: 0 0.5em 0 0.5em; text-align: left; border: none;\">Feature</th>\n",
       "    </tr>\n",
       "    </thead>\n",
       "    <tbody>\n",
       "    \n",
       "        <tr style=\"background-color: hsl(120, 100.00%, 80.00%); border: none;\">\n",
       "            <td style=\"padding: 0 1em 0 0.5em; text-align: right; border: none;\">\n",
       "                0.6918\n",
       "                \n",
       "                    &plusmn; 0.0958\n",
       "                \n",
       "            </td>\n",
       "            <td style=\"padding: 0 0.5em 0 0.5em; text-align: left; border: none;\">\n",
       "                GROSS_SQUARE_FEET\n",
       "            </td>\n",
       "        </tr>\n",
       "    \n",
       "        <tr style=\"background-color: hsl(120, 100.00%, 94.01%); border: none;\">\n",
       "            <td style=\"padding: 0 1em 0 0.5em; text-align: right; border: none;\">\n",
       "                0.1235\n",
       "                \n",
       "                    &plusmn; 0.1201\n",
       "                \n",
       "            </td>\n",
       "            <td style=\"padding: 0 0.5em 0 0.5em; text-align: left; border: none;\">\n",
       "                ZIP_CODE\n",
       "            </td>\n",
       "        </tr>\n",
       "    \n",
       "        <tr style=\"background-color: hsl(120, 100.00%, 97.95%); border: none;\">\n",
       "            <td style=\"padding: 0 1em 0 0.5em; text-align: right; border: none;\">\n",
       "                0.0267\n",
       "                \n",
       "                    &plusmn; 0.0035\n",
       "                \n",
       "            </td>\n",
       "            <td style=\"padding: 0 0.5em 0 0.5em; text-align: left; border: none;\">\n",
       "                COMMERCIAL_UNITS\n",
       "            </td>\n",
       "        </tr>\n",
       "    \n",
       "        <tr style=\"background-color: hsl(120, 100.00%, 99.32%); border: none;\">\n",
       "            <td style=\"padding: 0 1em 0 0.5em; text-align: right; border: none;\">\n",
       "                0.0056\n",
       "                \n",
       "                    &plusmn; 0.0010\n",
       "                \n",
       "            </td>\n",
       "            <td style=\"padding: 0 0.5em 0 0.5em; text-align: left; border: none;\">\n",
       "                TAX_CLASS_AT_TIME_OF_SALE\n",
       "            </td>\n",
       "        </tr>\n",
       "    \n",
       "        <tr style=\"background-color: hsl(120, 100.00%, 99.39%); border: none;\">\n",
       "            <td style=\"padding: 0 1em 0 0.5em; text-align: right; border: none;\">\n",
       "                0.0048\n",
       "                \n",
       "                    &plusmn; 0.0014\n",
       "                \n",
       "            </td>\n",
       "            <td style=\"padding: 0 0.5em 0 0.5em; text-align: left; border: none;\">\n",
       "                RESIDENTIAL_UNITS\n",
       "            </td>\n",
       "        </tr>\n",
       "    \n",
       "        <tr style=\"background-color: hsl(120, 100.00%, 99.54%); border: none;\">\n",
       "            <td style=\"padding: 0 1em 0 0.5em; text-align: right; border: none;\">\n",
       "                0.0032\n",
       "                \n",
       "                    &plusmn; 0.0032\n",
       "                \n",
       "            </td>\n",
       "            <td style=\"padding: 0 0.5em 0 0.5em; text-align: left; border: none;\">\n",
       "                TOTAL_UNITS\n",
       "            </td>\n",
       "        </tr>\n",
       "    \n",
       "        <tr style=\"background-color: hsl(120, 100.00%, 99.62%); border: none;\">\n",
       "            <td style=\"padding: 0 1em 0 0.5em; text-align: right; border: none;\">\n",
       "                0.0024\n",
       "                \n",
       "                    &plusmn; 0.0087\n",
       "                \n",
       "            </td>\n",
       "            <td style=\"padding: 0 0.5em 0 0.5em; text-align: left; border: none;\">\n",
       "                BOROUGH\n",
       "            </td>\n",
       "        </tr>\n",
       "    \n",
       "        <tr style=\"background-color: hsl(120, 100.00%, 99.94%); border: none;\">\n",
       "            <td style=\"padding: 0 1em 0 0.5em; text-align: right; border: none;\">\n",
       "                0.0002\n",
       "                \n",
       "                    &plusmn; 0.0077\n",
       "                \n",
       "            </td>\n",
       "            <td style=\"padding: 0 0.5em 0 0.5em; text-align: left; border: none;\">\n",
       "                BLOCK\n",
       "            </td>\n",
       "        </tr>\n",
       "    \n",
       "        <tr style=\"background-color: hsl(120, 100.00%, 99.97%); border: none;\">\n",
       "            <td style=\"padding: 0 1em 0 0.5em; text-align: right; border: none;\">\n",
       "                0.0001\n",
       "                \n",
       "                    &plusmn; 0.0108\n",
       "                \n",
       "            </td>\n",
       "            <td style=\"padding: 0 0.5em 0 0.5em; text-align: left; border: none;\">\n",
       "                LOT\n",
       "            </td>\n",
       "        </tr>\n",
       "    \n",
       "        <tr style=\"background-color: hsl(0, 100.00%, 99.77%); border: none;\">\n",
       "            <td style=\"padding: 0 1em 0 0.5em; text-align: right; border: none;\">\n",
       "                -0.0012\n",
       "                \n",
       "                    &plusmn; 0.0055\n",
       "                \n",
       "            </td>\n",
       "            <td style=\"padding: 0 0.5em 0 0.5em; text-align: left; border: none;\">\n",
       "                NEIGHBORHOOD\n",
       "            </td>\n",
       "        </tr>\n",
       "    \n",
       "        <tr style=\"background-color: hsl(0, 100.00%, 98.98%); border: none;\">\n",
       "            <td style=\"padding: 0 1em 0 0.5em; text-align: right; border: none;\">\n",
       "                -0.0099\n",
       "                \n",
       "                    &plusmn; 0.0053\n",
       "                \n",
       "            </td>\n",
       "            <td style=\"padding: 0 0.5em 0 0.5em; text-align: left; border: none;\">\n",
       "                BUILDING_CLASS_CATEGORY\n",
       "            </td>\n",
       "        </tr>\n",
       "    \n",
       "        <tr style=\"background-color: hsl(0, 100.00%, 98.62%); border: none;\">\n",
       "            <td style=\"padding: 0 1em 0 0.5em; text-align: right; border: none;\">\n",
       "                -0.0151\n",
       "                \n",
       "                    &plusmn; 0.0308\n",
       "                \n",
       "            </td>\n",
       "            <td style=\"padding: 0 0.5em 0 0.5em; text-align: left; border: none;\">\n",
       "                YEAR_BUILT\n",
       "            </td>\n",
       "        </tr>\n",
       "    \n",
       "    \n",
       "    </tbody>\n",
       "</table>\n",
       "    \n",
       "\n",
       "    \n",
       "\n",
       "\n",
       "    \n",
       "\n",
       "    \n",
       "\n",
       "    \n",
       "\n",
       "    \n",
       "\n",
       "    \n",
       "\n",
       "    \n",
       "\n",
       "\n",
       "\n"
      ],
      "text/plain": [
       "<IPython.core.display.HTML object>"
      ]
     },
     "execution_count": 71,
     "metadata": {},
     "output_type": "execute_result"
    }
   ],
   "source": [
    "feature_names = X_val.columns.tolist()\n",
    "\n",
    "eli5.show_weights(\n",
    "    permuter,\n",
    "    top=None, # show permutation importances for all features\n",
    "    feature_names=feature_names\n",
    ")"
   ]
  },
  {
   "cell_type": "code",
   "execution_count": 72,
   "metadata": {},
   "outputs": [],
   "source": [
    "minimum_importance = 0.001\n",
    "mask = permuter.feature_importances_ > minimum_importance\n",
    "features_masked = X_train.columns[mask]\n",
    "X_train_masked = X_train[features_masked]"
   ]
  },
  {
   "cell_type": "code",
   "execution_count": 75,
   "metadata": {},
   "outputs": [],
   "source": [
    "X_val_masked = X_val[features_masked]\n",
    "X_test_masked = X_test[features_masked]\n",
    "\n",
    "pipeline2 = make_pipeline(\n",
    "    ce.OrdinalEncoder(), \n",
    "    SimpleImputer(strategy='median'), \n",
    "    RandomForestRegressor(n_estimators=100, random_state=55, n_jobs=-2)\n",
    ")\n",
    "\n",
    "# Fit on train, score on val\n",
    "pipeline2.fit(X_train_masked, y_train)"
   ]
  },
  {
   "cell_type": "code",
   "execution_count": 94,
   "metadata": {},
   "outputs": [
    {
     "name": "stdout",
     "output_type": "stream",
     "text": [
      "Validation Absolute Err: $1,172,690\n",
      "SqRt of MeanSqErr: $8,843,509\n",
      "\n",
      "Test Absolute Err: $1,972,067\n",
      "SqRt of MeanSqErr: $10,384,090\n",
      "\n"
     ]
    }
   ],
   "source": [
    "y_val_pred = pipeline2.predict(X_val_masked)\n",
    "y_test_pred = pipeline2.predict(X_test_masked)\n",
    "\n",
    "val_mae = meanAbErr(y_val, y_val_pred)\n",
    "val_mse = meanSqErr(y_val, y_val_pred)\n",
    "val_rmse = val_mse**.5\n",
    "test_mae = meanAbErr(y_test, y_test_pred)\n",
    "test_mse = meanSqErr(y_test, y_test_pred)\n",
    "test_rmse = test_mse**.5\n",
    "\n",
    "print(f'Validation Absolute Err: ${val_mae:,.0f}\\nSqRt of MeanSqErr: ${val_rmse:,.0f}\\n')\n",
    "print(f'Test Absolute Err: ${test_mae:,.0f}\\nSqRt of MeanSqErr: ${test_rmse:,.0f}\\n')"
   ]
  },
  {
   "cell_type": "code",
   "execution_count": 90,
   "metadata": {},
   "outputs": [
    {
     "name": "stderr",
     "output_type": "stream",
     "text": [
      "C:\\Users\\SLightfoot\\Anaconda3\\lib\\site-packages\\xgboost\\core.py:587: FutureWarning: Series.base is deprecated and will be removed in a future version\n",
      "  if getattr(data, 'base', None) is not None and \\\n",
      "C:\\Users\\SLightfoot\\Anaconda3\\lib\\site-packages\\xgboost\\core.py:588: FutureWarning: Series.base is deprecated and will be removed in a future version\n",
      "  data.base is not None and isinstance(data, np.ndarray) \\\n"
     ]
    },
    {
     "data": {
      "text/plain": [
       "Pipeline(memory=None,\n",
       "         steps=[('ordinalencoder',\n",
       "                 OrdinalEncoder(cols=['BOROUGH', 'NEIGHBORHOOD',\n",
       "                                      'BUILDING_CLASS_CATEGORY'],\n",
       "                                drop_invariant=False, handle_missing='value',\n",
       "                                handle_unknown='value',\n",
       "                                mapping=[{'col': 'BOROUGH',\n",
       "                                          'data_type': dtype('O'),\n",
       "                                          'mapping': 3      1\n",
       "4      2\n",
       "1      3\n",
       "2      4\n",
       "5      5\n",
       "NaN   -2\n",
       "dtype: int64},\n",
       "                                         {'col': 'NEIGHBORHOOD',\n",
       "                                          'data_type': dtype('O'),\n",
       "                                          'mapping': OTHER                       1\n",
       "FLUSHING-NORTH              2\n",
       "U...\n",
       "                              colsample_bylevel=1, colsample_bynode=1,\n",
       "                              colsample_bytree=1, gamma=0,\n",
       "                              importance_type='gain', learning_rate=0.1,\n",
       "                              max_delta_step=0, max_depth=3, min_child_weight=1,\n",
       "                              missing=None, n_estimators=100, n_jobs=-2,\n",
       "                              nthread=None, objective='reg:squarederror',\n",
       "                              random_state=55, reg_alpha=0, reg_lambda=1,\n",
       "                              scale_pos_weight=1, seed=None, silent=None,\n",
       "                              subsample=1, verbosity=1))],\n",
       "         verbose=False)"
      ]
     },
     "execution_count": 90,
     "metadata": {},
     "output_type": "execute_result"
    }
   ],
   "source": [
    "pipeline3 = make_pipeline(\n",
    "    ce.OrdinalEncoder(), \n",
    "    XGBRegressor(objective='reg:squarederror', n_estimators=100, random_state=55, n_jobs=-2)\n",
    ")\n",
    "\n",
    "pipeline3.fit(X_train, y_train)"
   ]
  },
  {
   "cell_type": "code",
   "execution_count": 92,
   "metadata": {},
   "outputs": [
    {
     "name": "stdout",
     "output_type": "stream",
     "text": [
      "Validation Absolute Err: $1,293,050\n",
      "SqRt of MeanSqErr: $9,922,563\n",
      "\n",
      "Test Absolute Err: $1,744,663\n",
      "SqRt of MeanSqErr: $7,376,954\n",
      "\n"
     ]
    }
   ],
   "source": [
    "y_val_pred = pipeline3.predict(X_val)\n",
    "y_test_pred = pipeline3.predict(X_test)\n",
    "\n",
    "val_mae = meanAbErr(y_val, y_val_pred)\n",
    "val_mse = meanSqErr(y_val, y_val_pred)\n",
    "val_rmse = val_mse**.5\n",
    "test_mae = meanAbErr(y_test, y_test_pred)\n",
    "test_mse = meanSqErr(y_test, y_test_pred)\n",
    "test_rmse = test_mse**.5\n",
    "print(f'Validation Absolute Err: ${val_mae:,.0f}\\nSqRt of MeanSqErr: ${val_rmse:,.0f}\\n')\n",
    "print(f'Test Absolute Err: ${test_mae:,.0f}\\nSqRt of MeanSqErr: ${test_rmse:,.0f}\\n')"
   ]
  },
  {
   "cell_type": "code",
   "execution_count": 1,
   "metadata": {},
   "outputs": [
    {
     "ename": "NameError",
     "evalue": "name 'ce' is not defined",
     "output_type": "error",
     "traceback": [
      "\u001b[1;31m---------------------------------------------------------------------------\u001b[0m",
      "\u001b[1;31mNameError\u001b[0m                                 Traceback (most recent call last)",
      "\u001b[1;32m<ipython-input-1-7742b19b4951>\u001b[0m in \u001b[0;36m<module>\u001b[1;34m\u001b[0m\n\u001b[1;32m----> 1\u001b[1;33m \u001b[0mencoder\u001b[0m \u001b[1;33m=\u001b[0m \u001b[0mce\u001b[0m\u001b[1;33m.\u001b[0m\u001b[0mOrdinalEncoder\u001b[0m\u001b[1;33m(\u001b[0m\u001b[1;33m)\u001b[0m\u001b[1;33m\u001b[0m\u001b[1;33m\u001b[0m\u001b[0m\n\u001b[0m\u001b[0;32m      2\u001b[0m \u001b[0mX_train_encoded\u001b[0m \u001b[1;33m=\u001b[0m \u001b[0mencoder\u001b[0m\u001b[1;33m.\u001b[0m\u001b[0mfit_transform\u001b[0m\u001b[1;33m(\u001b[0m\u001b[0mX_train\u001b[0m\u001b[1;33m)\u001b[0m\u001b[1;33m\u001b[0m\u001b[1;33m\u001b[0m\u001b[0m\n\u001b[0;32m      3\u001b[0m \u001b[0mX_val_encoded\u001b[0m \u001b[1;33m=\u001b[0m \u001b[0mencoder\u001b[0m\u001b[1;33m.\u001b[0m\u001b[0mtransform\u001b[0m\u001b[1;33m(\u001b[0m\u001b[0mX_val\u001b[0m\u001b[1;33m)\u001b[0m\u001b[1;33m\u001b[0m\u001b[1;33m\u001b[0m\u001b[0m\n\u001b[0;32m      4\u001b[0m \u001b[1;33m\u001b[0m\u001b[0m\n\u001b[0;32m      5\u001b[0m model = XGBRegressor(\n",
      "\u001b[1;31mNameError\u001b[0m: name 'ce' is not defined"
     ]
    }
   ],
   "source": [
    "encoder = ce.OrdinalEncoder()\n",
    "X_train_encoded = encoder.fit_transform(X_train)\n",
    "X_val_encoded = encoder.transform(X_val)\n",
    "\n",
    "model = XGBRegressor(\n",
    "    objective='reg:squarederror',\n",
    "    n_estimators=1000, # <= 1000 trees, depends on early stopping\n",
    "    max_depth=7,       # try deeper trees because of high cardinality categoricals\n",
    "    learning_rate=0.5, # try higher learning rate\n",
    "    n_jobs=-2\n",
    ")\n",
    "\n",
    "eval_set = [(X_train_encoded, y_train), \n",
    "            (X_val_encoded, y_val)]\n",
    "\n",
    "model.fit(X_train_encoded, y_train, \n",
    "          eval_set=eval_set, \n",
    "          eval_metric='merror', \n",
    "          early_stopping_rounds=50)"
   ]
  }
 ],
 "metadata": {
  "colab": {
   "collapsed_sections": [],
   "name": "assignment_applied_modeling_2.ipynb",
   "provenance": [],
   "version": "0.3.2"
  },
  "kernelspec": {
   "display_name": "Python 3",
   "language": "python",
   "name": "python3"
  },
  "language_info": {
   "codemirror_mode": {
    "name": "ipython",
    "version": 3
   },
   "file_extension": ".py",
   "mimetype": "text/x-python",
   "name": "python",
   "nbconvert_exporter": "python",
   "pygments_lexer": "ipython3",
   "version": "3.7.5"
  }
 },
 "nbformat": 4,
 "nbformat_minor": 4
}
