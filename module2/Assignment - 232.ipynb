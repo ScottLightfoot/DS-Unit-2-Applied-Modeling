{
 "cells": [
  {
   "cell_type": "markdown",
   "metadata": {
    "colab_type": "text",
    "id": "nCc3XZEyG3XV"
   },
   "source": [
    "Lambda School Data Science\n",
    "\n",
    "*Unit 2, Sprint 3, Module 2*\n",
    "\n",
    "---\n",
    "\n",
    "\n",
    "# Permutation & Boosting\n",
    "\n",
    "You will use your portfolio project dataset for all assignments this sprint.\n",
    "\n",
    "## Assignment\n",
    "\n",
    "Complete these tasks for your project, and document your work.\n",
    "\n",
    "- [ ] If you haven't completed assignment #1, please do so first.\n",
    "- [ ] Continue to clean and explore your data. Make exploratory visualizations.\n",
    "- [ ] Fit a model. Does it beat your baseline? \n",
    "- [ ] Try xgboost.\n",
    "- [ ] Get your model's permutation importances.\n",
    "\n",
    "You should try to complete an initial model today, because the rest of the week, we're making model interpretation visualizations.\n",
    "\n",
    "But, if you aren't ready to try xgboost and permutation importances with your dataset today, that's okay. You can practice with another dataset instead. You may choose any dataset you've worked with previously.\n",
    "\n",
    "The data subdirectory includes the Titanic dataset for classification and the NYC apartments dataset for regression. You may want to choose one of these datasets, because example solutions will be available for each.\n",
    "\n",
    "\n",
    "## Reading\n",
    "\n",
    "Top recommendations in _**bold italic:**_\n",
    "\n",
    "#### Permutation Importances\n",
    "- _**[Kaggle / Dan Becker: Machine Learning Explainability](https://www.kaggle.com/dansbecker/permutation-importance)**_\n",
    "- [Christoph Molnar: Interpretable Machine Learning](https://christophm.github.io/interpretable-ml-book/feature-importance.html)\n",
    "\n",
    "#### (Default) Feature Importances\n",
    "  - [Ando Saabas: Selecting good features, Part 3, Random Forests](https://blog.datadive.net/selecting-good-features-part-iii-random-forests/)\n",
    "  - [Terence Parr, et al: Beware Default Random Forest Importances](https://explained.ai/rf-importance/index.html)\n",
    "\n",
    "#### Gradient Boosting\n",
    "  - [A Gentle Introduction to the Gradient Boosting Algorithm for Machine Learning](https://machinelearningmastery.com/gentle-introduction-gradient-boosting-algorithm-machine-learning/)\n",
    "  - _**[A Kaggle Master Explains Gradient Boosting](http://blog.kaggle.com/2017/01/23/a-kaggle-master-explains-gradient-boosting/)**_\n",
    "  - [_An Introduction to Statistical Learning_](http://www-bcf.usc.edu/~gareth/ISL/ISLR%20Seventh%20Printing.pdf) Chapter 8\n",
    "  - [Gradient Boosting Explained](http://arogozhnikov.github.io/2016/06/24/gradient_boosting_explained.html)\n",
    "  - _**[Boosting](https://www.youtube.com/watch?v=GM3CDQfQ4sw) (2.5 minute video)**_"
   ]
  },
  {
   "cell_type": "code",
   "execution_count": 2,
   "metadata": {},
   "outputs": [],
   "source": [
    "## As my sets are not yet ready for use on this assignment, I'm pulling in the SalesDF from Unit2 s1-m3,\n",
    "## as it will provide practice with regression."
   ]
  },
  {
   "cell_type": "code",
   "execution_count": 1,
   "metadata": {},
   "outputs": [],
   "source": [
    "%%capture\n",
    "import sys\n",
    "\n",
    "# If you're on Colab:\n",
    "if 'google.colab' in sys.modules:\n",
    "    DATA_PATH = 'https://raw.githubusercontent.com/LambdaSchool/DS-Unit-2-Applied-Modeling/master/data/'\n",
    "    !pip install category_encoders==2.*\n",
    "    !pip install eli5\n",
    "\n",
    "# If you're working locally:\n",
    "else:\n",
    "    DATA_PATH = '../data/'    "
   ]
  },
  {
   "cell_type": "code",
   "execution_count": 3,
   "metadata": {},
   "outputs": [],
   "source": [
    "import pandas as pd\n",
    "import numpy as np\n",
    "import category_encoders as ce\n",
    "import matplotlib.pyplot as plt\n",
    "import eli5\n",
    "\n",
    "from sklearn.model_selection import train_test_split\n",
    "from sklearn.impute import SimpleImputer\n",
    "from sklearn.ensemble import RandomForestRegressor\n",
    "from sklearn.pipeline import make_pipeline\n",
    "from sklearn.metrics import mean_absolute_error as meanAbErr\n",
    "from sklearn.metrics import mean_squared_error as meanSqErr\n",
    "\n",
    "from eli5.sklearn import PermutationImportance\n",
    "from xgboost import XGBRegressor"
   ]
  },
  {
   "cell_type": "code",
   "execution_count": 4,
   "metadata": {},
   "outputs": [],
   "source": [
    "# Import\n",
    "df = pd.read_csv(DATA_PATH+'condos/NYC_Citywide_Rolling_Calendar_Sales.csv')"
   ]
  },
  {
   "cell_type": "code",
   "execution_count": 5,
   "metadata": {},
   "outputs": [],
   "source": [
    "## REAL TALK HERE:\n",
    "##     Doing a fair amount of copy/paste from 2-1-3 just to get going on today's assignment!"
   ]
  },
  {
   "cell_type": "code",
   "execution_count": 6,
   "metadata": {},
   "outputs": [],
   "source": [
    "# Change column names: replace spaces with underscores\n",
    "df.columns = [col.replace(' ', '_') for col in df]\n",
    "\n",
    "# SALE_PRICE was read as strings.\n",
    "# Remove symbols, convert to integer\n",
    "df['SALE_PRICE'] = (\n",
    "    df['SALE_PRICE']\n",
    "    .str.replace('$','')\n",
    "    .str.replace('-','')\n",
    "    .str.replace(',','')\n",
    "    .astype(int)\n",
    ")\n",
    "\n",
    "df['BOROUGH'] = df['BOROUGH'].astype(str)\n",
    "\n",
    "top10 = df['NEIGHBORHOOD'].value_counts()[:10].index\n",
    "df.loc[~df['NEIGHBORHOOD'].isin(top10), 'NEIGHBORHOOD'] = 'OTHER'\n",
    "\n",
    "df['YEAR_BUILT'] = df['YEAR_BUILT'].ffill().astype(int)\n",
    "\n",
    "df['SALE_DATE'] = pd.to_datetime(df['SALE_DATE'])"
   ]
  },
  {
   "cell_type": "code",
   "execution_count": 7,
   "metadata": {},
   "outputs": [
    {
     "data": {
      "text/plain": [
       "count                   23040\n",
       "unique                    120\n",
       "top       2019-01-24 00:00:00\n",
       "freq                      480\n",
       "first     2019-01-01 00:00:00\n",
       "last      2019-04-30 00:00:00\n",
       "Name: SALE_DATE, dtype: object"
      ]
     },
     "execution_count": 7,
     "metadata": {},
     "output_type": "execute_result"
    }
   ],
   "source": [
    "df['SALE_DATE'].describe()"
   ]
  },
  {
   "cell_type": "code",
   "execution_count": 8,
   "metadata": {},
   "outputs": [],
   "source": [
    "train = df[df['SALE_DATE'] < pd.datetime(2019, 4, 1)]\n",
    "test = df[df['SALE_DATE'] >= pd.datetime(2019, 4, 1)]\n",
    "assert(len(train) + len(test) == len(df))"
   ]
  },
  {
   "cell_type": "code",
   "execution_count": 9,
   "metadata": {},
   "outputs": [],
   "source": [
    "target = 'SALE_PRICE'\n",
    "badObjCols = ['TAX_CLASS_AT_PRESENT', 'BUILDING_CLASS_AT_PRESENT', \n",
    "           'ADDRESS', 'APARTMENT_NUMBER', 'LAND_SQUARE_FEET',\n",
    "           'BUILDING_CLASS_AT_TIME_OF_SALE', 'SALE_DATE', 'EASE-MENT']\n",
    "\n",
    "features = train.columns.drop([target] + badObjCols)"
   ]
  },
  {
   "cell_type": "code",
   "execution_count": 10,
   "metadata": {},
   "outputs": [
    {
     "data": {
      "text/plain": [
       "Index(['BOROUGH', 'NEIGHBORHOOD', 'BUILDING_CLASS_CATEGORY', 'BLOCK', 'LOT',\n",
       "       'ZIP_CODE', 'RESIDENTIAL_UNITS', 'COMMERCIAL_UNITS', 'TOTAL_UNITS',\n",
       "       'GROSS_SQUARE_FEET', 'YEAR_BUILT', 'TAX_CLASS_AT_TIME_OF_SALE'],\n",
       "      dtype='object')"
      ]
     },
     "execution_count": 10,
     "metadata": {},
     "output_type": "execute_result"
    }
   ],
   "source": [
    "features"
   ]
  },
  {
   "cell_type": "code",
   "execution_count": 11,
   "metadata": {},
   "outputs": [],
   "source": [
    "train, val = train_test_split(train, train_size=0.8, test_size=0.2,\n",
    "                              random_state=55)"
   ]
  },
  {
   "cell_type": "code",
   "execution_count": 12,
   "metadata": {},
   "outputs": [],
   "source": [
    "X_train = train[features]\n",
    "X_val = val[features]\n",
    "X_test = test[features]\n",
    "\n",
    "y_train = train[target]\n",
    "y_val = val[target]\n",
    "y_test = test[target]"
   ]
  },
  {
   "cell_type": "code",
   "execution_count": 13,
   "metadata": {},
   "outputs": [],
   "source": [
    "y_baseline = [y_test.mean()] * len(y_test)"
   ]
  },
  {
   "cell_type": "code",
   "execution_count": 14,
   "metadata": {},
   "outputs": [],
   "source": [
    "pipeline = make_pipeline(\n",
    "    ce.OrdinalEncoder(), \n",
    "    SimpleImputer(strategy='mean'), \n",
    "    RandomForestRegressor(n_estimators=100, random_state=55, n_jobs=-2)\n",
    ")"
   ]
  },
  {
   "cell_type": "code",
   "execution_count": 15,
   "metadata": {},
   "outputs": [
    {
     "data": {
      "text/plain": [
       "Pipeline(memory=None,\n",
       "         steps=[('ordinalencoder',\n",
       "                 OrdinalEncoder(cols=['BOROUGH', 'NEIGHBORHOOD',\n",
       "                                      'BUILDING_CLASS_CATEGORY'],\n",
       "                                drop_invariant=False, handle_missing='value',\n",
       "                                handle_unknown='value',\n",
       "                                mapping=[{'col': 'BOROUGH',\n",
       "                                          'data_type': dtype('O'),\n",
       "                                          'mapping': 3      1\n",
       "4      2\n",
       "1      3\n",
       "2      4\n",
       "5      5\n",
       "NaN   -2\n",
       "dtype: int64},\n",
       "                                         {'col': 'NEIGHBORHOOD',\n",
       "                                          'data_type': dtype('O'),\n",
       "                                          'mapping': OTHER                       1\n",
       "FLUSHING-NORTH              2\n",
       "U...\n",
       "                ('randomforestregressor',\n",
       "                 RandomForestRegressor(bootstrap=True, criterion='mse',\n",
       "                                       max_depth=None, max_features='auto',\n",
       "                                       max_leaf_nodes=None,\n",
       "                                       min_impurity_decrease=0.0,\n",
       "                                       min_impurity_split=None,\n",
       "                                       min_samples_leaf=1, min_samples_split=2,\n",
       "                                       min_weight_fraction_leaf=0.0,\n",
       "                                       n_estimators=100, n_jobs=-2,\n",
       "                                       oob_score=False, random_state=55,\n",
       "                                       verbose=0, warm_start=False))],\n",
       "         verbose=False)"
      ]
     },
     "execution_count": 15,
     "metadata": {},
     "output_type": "execute_result"
    }
   ],
   "source": [
    "pipeline.fit(X_train, y_train)"
   ]
  },
  {
   "cell_type": "code",
   "execution_count": 16,
   "metadata": {},
   "outputs": [
    {
     "name": "stdout",
     "output_type": "stream",
     "text": [
      "Validation Absolute Err: $1,129,931\n",
      "SqRt of MeanSqErr: $9,036,081\n",
      "\n",
      "Test Absolute Err: $1,916,845\n",
      "SqRt of MeanSqErr: $9,075,663\n",
      "\n"
     ]
    }
   ],
   "source": [
    "y_val_pred = pipeline.predict(X_val)\n",
    "y_test_pred = pipeline.predict(X_test)\n",
    "\n",
    "val_mae = meanAbErr(y_val, y_val_pred)\n",
    "val_mse = meanSqErr(y_val, y_val_pred)\n",
    "val_rmse = val_mse**.5\n",
    "test_mae = meanAbErr(y_test, y_test_pred)\n",
    "test_mse = meanSqErr(y_test, y_test_pred)\n",
    "test_rmse = test_mse**.5\n",
    "\n",
    "print(f'Validation Absolute Err: ${val_mae:,.0f}\\nSqRt of MeanSqErr: ${val_rmse:,.0f}\\n')\n",
    "print(f'Test Absolute Err: ${test_mae:,.0f}\\nSqRt of MeanSqErr: ${test_rmse:,.0f}\\n')"
   ]
  },
  {
   "cell_type": "code",
   "execution_count": 17,
   "metadata": {},
   "outputs": [
    {
     "data": {
      "image/png": "[encoded data removed]",
      "text/plain": [
       "<Figure size 720x432 with 1 Axes>"
      ]
     },
     "metadata": {
      "needs_background": "light"
     },
     "output_type": "display_data"
    }
   ],
   "source": [
    "# Get feature importances\n",
    "rf = pipeline.named_steps['randomforestregressor']\n",
    "importances = pd.Series(rf.feature_importances_, X_train.columns)\n",
    "\n",
    "n = len(features)\n",
    "plt.figure(figsize=(10,n/2))\n",
    "plt.title(f'Top {n} features')\n",
    "importances.sort_values()[-n:].plot.barh(color='grey');"
   ]
  },
  {
   "cell_type": "code",
   "execution_count": 18,
   "metadata": {},
   "outputs": [
    {
     "data": {
      "text/plain": [
       "RandomForestRegressor(bootstrap=True, criterion='mse', max_depth=None,\n",
       "                      max_features='auto', max_leaf_nodes=None,\n",
       "                      min_impurity_decrease=0.0, min_impurity_split=None,\n",
       "                      min_samples_leaf=1, min_samples_split=2,\n",
       "                      min_weight_fraction_leaf=0.0, n_estimators=100, n_jobs=-2,\n",
       "                      oob_score=False, random_state=55, verbose=0,\n",
       "                      warm_start=False)"
      ]
     },
     "execution_count": 18,
     "metadata": {},
     "output_type": "execute_result"
    }
   ],
   "source": [
    "transformers = make_pipeline(\n",
    "    ce.OrdinalEncoder(), \n",
    "    SimpleImputer(strategy='mean')\n",
    ")\n",
    "\n",
    "X_train_transformed = transformers.fit_transform(X_train)\n",
    "X_val_transformed = transformers.transform(X_val)\n",
    "\n",
    "model = RandomForestRegressor(n_estimators=100, random_state=55, n_jobs=-2)\n",
    "model.fit(X_train_transformed, y_train)"
   ]
  },
  {
   "cell_type": "code",
   "execution_count": 19,
   "metadata": {},
   "outputs": [
    {
     "data": {
      "text/plain": [
       "PermutationImportance(cv='prefit',\n",
       "                      estimator=RandomForestRegressor(bootstrap=True,\n",
       "                                                      criterion='mse',\n",
       "                                                      max_depth=None,\n",
       "                                                      max_features='auto',\n",
       "                                                      max_leaf_nodes=None,\n",
       "                                                      min_impurity_decrease=0.0,\n",
       "                                                      min_impurity_split=None,\n",
       "                                                      min_samples_leaf=1,\n",
       "                                                      min_samples_split=2,\n",
       "                                                      min_weight_fraction_leaf=0.0,\n",
       "                                                      n_estimators=100,\n",
       "                                                      n_jobs=-2,\n",
       "                                                      oob_score=False,\n",
       "                                                      random_state=55,\n",
       "                                                      verbose=0,\n",
       "                                                      warm_start=False),\n",
       "                      n_iter=5, random_state=55, refit=True, scoring=None)"
      ]
     },
     "execution_count": 19,
     "metadata": {},
     "output_type": "execute_result"
    }
   ],
   "source": [
    "permuter = PermutationImportance(\n",
    "    model,\n",
    "    n_iter=5, \n",
    "    random_state=55\n",
    ")\n",
    "\n",
    "permuter.fit(X_val_transformed, y_val)"
   ]
  },
  {
   "cell_type": "code",
   "execution_count": 20,
   "metadata": {},
   "outputs": [
    {
     "data": {
      "text/plain": [
       "GROSS_SQUARE_FEET            0.691751\n",
       "ZIP_CODE                     0.123471\n",
       "COMMERCIAL_UNITS             0.026719\n",
       "TAX_CLASS_AT_TIME_OF_SALE    0.005574\n",
       "RESIDENTIAL_UNITS            0.004775\n",
       "TOTAL_UNITS                  0.003180\n",
       "BOROUGH                      0.002390\n",
       "BLOCK                        0.000176\n",
       "LOT                          0.000057\n",
       "NEIGHBORHOOD                -0.001153\n",
       "BUILDING_CLASS_CATEGORY     -0.009919\n",
       "YEAR_BUILT                  -0.015150\n",
       "dtype: float64"
      ]
     },
     "execution_count": 20,
     "metadata": {},
     "output_type": "execute_result"
    }
   ],
   "source": [
    "feature_names = X_val.columns.tolist()\n",
    "pd.Series(permuter.feature_importances_, feature_names).sort_values(ascending=False)"
   ]
  },
  {
   "cell_type": "code",
   "execution_count": 21,
   "metadata": {},
   "outputs": [
    {
     "data": {
      "text/html": [
       "\n",
       "    <style>\n",
       "    table.eli5-weights tr:hover {\n",
       "        filter: brightness(85%);\n",
       "    }\n",
       "</style>\n",
       "\n",
       "\n",
       "\n",
       "    \n",
       "\n",
       "    \n",
       "\n",
       "    \n",
       "\n",
       "    \n",
       "\n",
       "    \n",
       "\n",
       "    \n",
       "\n",
       "\n",
       "    \n",
       "\n",
       "    \n",
       "\n",
       "    \n",
       "\n",
       "    \n",
       "\n",
       "    \n",
       "\n",
       "    \n",
       "\n",
       "\n",
       "    \n",
       "\n",
       "    \n",
       "\n",
       "    \n",
       "\n",
       "    \n",
       "\n",
       "    \n",
       "        <table class=\"eli5-weights eli5-feature-importances\" style=\"border-collapse: collapse; border: none; margin-top: 0em; table-layout: auto;\">\n",
       "    <thead>\n",
       "    <tr style=\"border: none;\">\n",
       "        <th style=\"padding: 0 1em 0 0.5em; text-align: right; border: none;\">Weight</th>\n",
       "        <th style=\"padding: 0 0.5em 0 0.5em; text-align: left; border: none;\">Feature</th>\n",
       "    </tr>\n",
       "    </thead>\n",
       "    <tbody>\n",
       "    \n",
       "        <tr style=\"background-color: hsl(120, 100.00%, 80.00%); border: none;\">\n",
       "            <td style=\"padding: 0 1em 0 0.5em; text-align: right; border: none;\">\n",
       "                0.6918\n",
       "                \n",
       "                    &plusmn; 0.0958\n",
       "                \n",
       "            </td>\n",
       "            <td style=\"padding: 0 0.5em 0 0.5em; text-align: left; border: none;\">\n",
       "                GROSS_SQUARE_FEET\n",
       "            </td>\n",
       "        </tr>\n",
       "    \n",
       "        <tr style=\"background-color: hsl(120, 100.00%, 94.01%); border: none;\">\n",
       "            <td style=\"padding: 0 1em 0 0.5em; text-align: right; border: none;\">\n",
       "                0.1235\n",
       "                \n",
       "                    &plusmn; 0.1201\n",
       "                \n",
       "            </td>\n",
       "            <td style=\"padding: 0 0.5em 0 0.5em; text-align: left; border: none;\">\n",
       "                ZIP_CODE\n",
       "            </td>\n",
       "        </tr>\n",
       "    \n",
       "        <tr style=\"background-color: hsl(120, 100.00%, 97.95%); border: none;\">\n",
       "            <td style=\"padding: 0 1em 0 0.5em; text-align: right; border: none;\">\n",
       "                0.0267\n",
       "                \n",
       "                    &plusmn; 0.0035\n",
       "                \n",
       "            </td>\n",
       "            <td style=\"padding: 0 0.5em 0 0.5em; text-align: left; border: none;\">\n",
       "                COMMERCIAL_UNITS\n",
       "            </td>\n",
       "        </tr>\n",
       "    \n",
       "        <tr style=\"background-color: hsl(120, 100.00%, 99.32%); border: none;\">\n",
       "            <td style=\"padding: 0 1em 0 0.5em; text-align: right; border: none;\">\n",
       "                0.0056\n",
       "                \n",
       "                    &plusmn; 0.0010\n",
       "                \n",
       "            </td>\n",
       "            <td style=\"padding: 0 0.5em 0 0.5em; text-align: left; border: none;\">\n",
       "                TAX_CLASS_AT_TIME_OF_SALE\n",
       "            </td>\n",
       "        </tr>\n",
       "    \n",
       "        <tr style=\"background-color: hsl(120, 100.00%, 99.39%); border: none;\">\n",
       "            <td style=\"padding: 0 1em 0 0.5em; text-align: right; border: none;\">\n",
       "                0.0048\n",
       "                \n",
       "                    &plusmn; 0.0014\n",
       "                \n",
       "            </td>\n",
       "            <td style=\"padding: 0 0.5em 0 0.5em; text-align: left; border: none;\">\n",
       "                RESIDENTIAL_UNITS\n",
       "            </td>\n",
       "        </tr>\n",
       "    \n",
       "        <tr style=\"background-color: hsl(120, 100.00%, 99.54%); border: none;\">\n",
       "            <td style=\"padding: 0 1em 0 0.5em; text-align: right; border: none;\">\n",
       "                0.0032\n",
       "                \n",
       "                    &plusmn; 0.0032\n",
       "                \n",
       "            </td>\n",
       "            <td style=\"padding: 0 0.5em 0 0.5em; text-align: left; border: none;\">\n",
       "                TOTAL_UNITS\n",
       "            </td>\n",
       "        </tr>\n",
       "    \n",
       "        <tr style=\"background-color: hsl(120, 100.00%, 99.62%); border: none;\">\n",
       "            <td style=\"padding: 0 1em 0 0.5em; text-align: right; border: none;\">\n",
       "                0.0024\n",
       "                \n",
       "                    &plusmn; 0.0087\n",
       "                \n",
       "            </td>\n",
       "            <td style=\"padding: 0 0.5em 0 0.5em; text-align: left; border: none;\">\n",
       "                BOROUGH\n",
       "            </td>\n",
       "        </tr>\n",
       "    \n",
       "        <tr style=\"background-color: hsl(120, 100.00%, 99.94%); border: none;\">\n",
       "            <td style=\"padding: 0 1em 0 0.5em; text-align: right; border: none;\">\n",
       "                0.0002\n",
       "                \n",
       "                    &plusmn; 0.0077\n",
       "                \n",
       "            </td>\n",
       "            <td style=\"padding: 0 0.5em 0 0.5em; text-align: left; border: none;\">\n",
       "                BLOCK\n",
       "            </td>\n",
       "        </tr>\n",
       "    \n",
       "        <tr style=\"background-color: hsl(120, 100.00%, 99.97%); border: none;\">\n",
       "            <td style=\"padding: 0 1em 0 0.5em; text-align: right; border: none;\">\n",
       "                0.0001\n",
       "                \n",
       "                    &plusmn; 0.0108\n",
       "                \n",
       "            </td>\n",
       "            <td style=\"padding: 0 0.5em 0 0.5em; text-align: left; border: none;\">\n",
       "                LOT\n",
       "            </td>\n",
       "        </tr>\n",
       "    \n",
       "        <tr style=\"background-color: hsl(0, 100.00%, 99.77%); border: none;\">\n",
       "            <td style=\"padding: 0 1em 0 0.5em; text-align: right; border: none;\">\n",
       "                -0.0012\n",
       "                \n",
       "                    &plusmn; 0.0055\n",
       "                \n",
       "            </td>\n",
       "            <td style=\"padding: 0 0.5em 0 0.5em; text-align: left; border: none;\">\n",
       "                NEIGHBORHOOD\n",
       "            </td>\n",
       "        </tr>\n",
       "    \n",
       "        <tr style=\"background-color: hsl(0, 100.00%, 98.98%); border: none;\">\n",
       "            <td style=\"padding: 0 1em 0 0.5em; text-align: right; border: none;\">\n",
       "                -0.0099\n",
       "                \n",
       "                    &plusmn; 0.0053\n",
       "                \n",
       "            </td>\n",
       "            <td style=\"padding: 0 0.5em 0 0.5em; text-align: left; border: none;\">\n",
       "                BUILDING_CLASS_CATEGORY\n",
       "            </td>\n",
       "        </tr>\n",
       "    \n",
       "        <tr style=\"background-color: hsl(0, 100.00%, 98.62%); border: none;\">\n",
       "            <td style=\"padding: 0 1em 0 0.5em; text-align: right; border: none;\">\n",
       "                -0.0151\n",
       "                \n",
       "                    &plusmn; 0.0308\n",
       "                \n",
       "            </td>\n",
       "            <td style=\"padding: 0 0.5em 0 0.5em; text-align: left; border: none;\">\n",
       "                YEAR_BUILT\n",
       "            </td>\n",
       "        </tr>\n",
       "    \n",
       "    \n",
       "    </tbody>\n",
       "</table>\n",
       "    \n",
       "\n",
       "    \n",
       "\n",
       "\n",
       "    \n",
       "\n",
       "    \n",
       "\n",
       "    \n",
       "\n",
       "    \n",
       "\n",
       "    \n",
       "\n",
       "    \n",
       "\n",
       "\n",
       "\n"
      ],
      "text/plain": [
       "<IPython.core.display.HTML object>"
      ]
     },
     "execution_count": 21,
     "metadata": {},
     "output_type": "execute_result"
    }
   ],
   "source": [
    "feature_names = X_val.columns.tolist()\n",
    "\n",
    "eli5.show_weights(\n",
    "    permuter,\n",
    "    top=None, # show permutation importances for all features\n",
    "    feature_names=feature_names\n",
    ")"
   ]
  },
  {
   "cell_type": "code",
   "execution_count": 22,
   "metadata": {},
   "outputs": [],
   "source": [
    "minimum_importance = 0.001\n",
    "mask = permuter.feature_importances_ > minimum_importance\n",
    "features_masked = X_train.columns[mask]\n",
    "X_train_masked = X_train[features_masked]"
   ]
  },
  {
   "cell_type": "code",
   "execution_count": 23,
   "metadata": {},
   "outputs": [
    {
     "data": {
      "text/plain": [
       "Pipeline(memory=None,\n",
       "         steps=[('ordinalencoder',\n",
       "                 OrdinalEncoder(cols=['BOROUGH'], drop_invariant=False,\n",
       "                                handle_missing='value', handle_unknown='value',\n",
       "                                mapping=[{'col': 'BOROUGH',\n",
       "                                          'data_type': dtype('O'),\n",
       "                                          'mapping': 3      1\n",
       "4      2\n",
       "1      3\n",
       "2      4\n",
       "5      5\n",
       "NaN   -2\n",
       "dtype: int64}],\n",
       "                                return_df=True, verbose=0)),\n",
       "                ('simpleimputer',\n",
       "                 SimpleImputer(add_indicator=False, copy=True, fill_value=None,\n",
       "                               missing_value...\n",
       "                ('randomforestregressor',\n",
       "                 RandomForestRegressor(bootstrap=True, criterion='mse',\n",
       "                                       max_depth=None, max_features='auto',\n",
       "                                       max_leaf_nodes=None,\n",
       "                                       min_impurity_decrease=0.0,\n",
       "                                       min_impurity_split=None,\n",
       "                                       min_samples_leaf=1, min_samples_split=2,\n",
       "                                       min_weight_fraction_leaf=0.0,\n",
       "                                       n_estimators=100, n_jobs=-2,\n",
       "                                       oob_score=False, random_state=55,\n",
       "                                       verbose=0, warm_start=False))],\n",
       "         verbose=False)"
      ]
     },
     "execution_count": 23,
     "metadata": {},
     "output_type": "execute_result"
    }
   ],
   "source": [
    "X_val_masked = X_val[features_masked]\n",
    "X_test_masked = X_test[features_masked]\n",
    "\n",
    "pipeline2 = make_pipeline(\n",
    "    ce.OrdinalEncoder(), \n",
    "    SimpleImputer(strategy='median'), \n",
    "    RandomForestRegressor(n_estimators=100, random_state=55, n_jobs=-2)\n",
    ")\n",
    "\n",
    "# Fit on train, score on val\n",
    "pipeline2.fit(X_train_masked, y_train)"
   ]
  },
  {
   "cell_type": "code",
   "execution_count": 24,
   "metadata": {},
   "outputs": [
    {
     "name": "stdout",
     "output_type": "stream",
     "text": [
      "Validation Absolute Err: $1,172,690\n",
      "SqRt of MeanSqErr: $8,843,509\n",
      "\n",
      "Test Absolute Err: $1,972,067\n",
      "SqRt of MeanSqErr: $10,384,090\n",
      "\n"
     ]
    }
   ],
   "source": [
    "y_val_pred = pipeline2.predict(X_val_masked)\n",
    "y_test_pred = pipeline2.predict(X_test_masked)\n",
    "\n",
    "val_mae = meanAbErr(y_val, y_val_pred)\n",
    "val_mse = meanSqErr(y_val, y_val_pred)\n",
    "val_rmse = val_mse**.5\n",
    "test_mae = meanAbErr(y_test, y_test_pred)\n",
    "test_mse = meanSqErr(y_test, y_test_pred)\n",
    "test_rmse = test_mse**.5\n",
    "\n",
    "print(f'Validation Absolute Err: ${val_mae:,.0f}\\nSqRt of MeanSqErr: ${val_rmse:,.0f}\\n')\n",
    "print(f'Test Absolute Err: ${test_mae:,.0f}\\nSqRt of MeanSqErr: ${test_rmse:,.0f}\\n')"
   ]
  },
  {
   "cell_type": "code",
   "execution_count": 25,
   "metadata": {},
   "outputs": [],
   "source": [
    "import warnings\n",
    "warnings.filterwarnings(action='ignore', category=FutureWarning, module='xgboost')"
   ]
  },
  {
   "cell_type": "code",
   "execution_count": 26,
   "metadata": {},
   "outputs": [
    {
     "data": {
      "text/plain": [
       "Pipeline(memory=None,\n",
       "         steps=[('ordinalencoder',\n",
       "                 OrdinalEncoder(cols=['BOROUGH', 'NEIGHBORHOOD',\n",
       "                                      'BUILDING_CLASS_CATEGORY'],\n",
       "                                drop_invariant=False, handle_missing='value',\n",
       "                                handle_unknown='value',\n",
       "                                mapping=[{'col': 'BOROUGH',\n",
       "                                          'data_type': dtype('O'),\n",
       "                                          'mapping': 3      1\n",
       "4      2\n",
       "1      3\n",
       "2      4\n",
       "5      5\n",
       "NaN   -2\n",
       "dtype: int64},\n",
       "                                         {'col': 'NEIGHBORHOOD',\n",
       "                                          'data_type': dtype('O'),\n",
       "                                          'mapping': OTHER                       1\n",
       "FLUSHING-NORTH              2\n",
       "U...\n",
       "                              colsample_bylevel=1, colsample_bynode=1,\n",
       "                              colsample_bytree=1, gamma=0,\n",
       "                              importance_type='gain', learning_rate=0.1,\n",
       "                              max_delta_step=0, max_depth=3, min_child_weight=1,\n",
       "                              missing=None, n_estimators=100, n_jobs=-2,\n",
       "                              nthread=None, objective='reg:squarederror',\n",
       "                              random_state=55, reg_alpha=0, reg_lambda=1,\n",
       "                              scale_pos_weight=1, seed=None, silent=None,\n",
       "                              subsample=1, verbosity=1))],\n",
       "         verbose=False)"
      ]
     },
     "execution_count": 26,
     "metadata": {},
     "output_type": "execute_result"
    }
   ],
   "source": [
    "pipeline3 = make_pipeline(\n",
    "    ce.OrdinalEncoder(), \n",
    "    XGBRegressor(objective='reg:squarederror', n_estimators=100, random_state=55, n_jobs=-2)\n",
    ")\n",
    "\n",
    "pipeline3.fit(X_train, y_train)"
   ]
  },
  {
   "cell_type": "code",
   "execution_count": 27,
   "metadata": {},
   "outputs": [
    {
     "name": "stdout",
     "output_type": "stream",
     "text": [
      "Validation Absolute Err: $1,293,050\n",
      "SqRt of MeanSqErr: $9,922,563\n",
      "\n",
      "Test Absolute Err: $1,744,663\n",
      "SqRt of MeanSqErr: $7,376,954\n",
      "\n"
     ]
    }
   ],
   "source": [
    "y_val_pred = pipeline3.predict(X_val)\n",
    "y_test_pred = pipeline3.predict(X_test)\n",
    "\n",
    "val_mae = meanAbErr(y_val, y_val_pred)\n",
    "val_mse = meanSqErr(y_val, y_val_pred)\n",
    "val_rmse = val_mse**.5\n",
    "test_mae = meanAbErr(y_test, y_test_pred)\n",
    "test_mse = meanSqErr(y_test, y_test_pred)\n",
    "test_rmse = test_mse**.5\n",
    "print(f'Validation Absolute Err: ${val_mae:,.0f}\\nSqRt of MeanSqErr: ${val_rmse:,.0f}\\n')\n",
    "print(f'Test Absolute Err: ${test_mae:,.0f}\\nSqRt of MeanSqErr: ${test_rmse:,.0f}\\n')"
   ]
  },
  {
   "cell_type": "code",
   "execution_count": 29,
   "metadata": {},
   "outputs": [
    {
     "name": "stdout",
     "output_type": "stream",
     "text": [
      "[0]\tvalidation_0-rmse:7.21069e+06\tvalidation_1-rmse:1.0722e+07\n",
      "Multiple eval metrics have been passed: 'validation_1-rmse' will be used for early stopping.\n",
      "\n",
      "Will train until validation_1-rmse hasn't improved in 50 rounds.\n",
      "[1]\tvalidation_0-rmse:5.39892e+06\tvalidation_1-rmse:1.05524e+07\n",
      "[2]\tvalidation_0-rmse:4.22377e+06\tvalidation_1-rmse:1.05004e+07\n",
      "[3]\tvalidation_0-rmse:3.42942e+06\tvalidation_1-rmse:1.04983e+07\n",
      "[4]\tvalidation_0-rmse:2.90146e+06\tvalidation_1-rmse:1.04744e+07\n",
      "[5]\tvalidation_0-rmse:2.57198e+06\tvalidation_1-rmse:1.047e+07\n",
      "[6]\tvalidation_0-rmse:2.31403e+06\tvalidation_1-rmse:1.05035e+07\n",
      "[7]\tvalidation_0-rmse:2.17394e+06\tvalidation_1-rmse:1.04819e+07\n",
      "[8]\tvalidation_0-rmse:1.97021e+06\tvalidation_1-rmse:1.04057e+07\n",
      "[9]\tvalidation_0-rmse:1.85099e+06\tvalidation_1-rmse:1.0398e+07\n",
      "[10]\tvalidation_0-rmse:1.80212e+06\tvalidation_1-rmse:1.03481e+07\n",
      "[11]\tvalidation_0-rmse:1.75709e+06\tvalidation_1-rmse:1.03447e+07\n",
      "[12]\tvalidation_0-rmse:1.69595e+06\tvalidation_1-rmse:1.03658e+07\n",
      "[13]\tvalidation_0-rmse:1.61626e+06\tvalidation_1-rmse:1.03657e+07\n",
      "[14]\tvalidation_0-rmse:1.58047e+06\tvalidation_1-rmse:1.03919e+07\n",
      "[15]\tvalidation_0-rmse:1.53624e+06\tvalidation_1-rmse:1.03962e+07\n",
      "[16]\tvalidation_0-rmse:1.45491e+06\tvalidation_1-rmse:1.03869e+07\n",
      "[17]\tvalidation_0-rmse:1.44772e+06\tvalidation_1-rmse:1.03825e+07\n",
      "[18]\tvalidation_0-rmse:1.34522e+06\tvalidation_1-rmse:1.03856e+07\n",
      "[19]\tvalidation_0-rmse:1.26385e+06\tvalidation_1-rmse:1.03796e+07\n",
      "[20]\tvalidation_0-rmse:1.2236e+06\tvalidation_1-rmse:1.03626e+07\n",
      "[21]\tvalidation_0-rmse:1.20737e+06\tvalidation_1-rmse:1.03639e+07\n",
      "[22]\tvalidation_0-rmse:1.15795e+06\tvalidation_1-rmse:1.03735e+07\n",
      "[23]\tvalidation_0-rmse:1.10499e+06\tvalidation_1-rmse:1.03664e+07\n",
      "[24]\tvalidation_0-rmse:1.08685e+06\tvalidation_1-rmse:1.0358e+07\n",
      "[25]\tvalidation_0-rmse:1.0664e+06\tvalidation_1-rmse:1.03489e+07\n",
      "[26]\tvalidation_0-rmse:1.03595e+06\tvalidation_1-rmse:1.0348e+07\n",
      "[27]\tvalidation_0-rmse:1.02035e+06\tvalidation_1-rmse:1.03434e+07\n",
      "[28]\tvalidation_0-rmse:1.0144e+06\tvalidation_1-rmse:1.03446e+07\n",
      "[29]\tvalidation_0-rmse:983333\tvalidation_1-rmse:1.03503e+07\n",
      "[30]\tvalidation_0-rmse:965217\tvalidation_1-rmse:1.03535e+07\n",
      "[31]\tvalidation_0-rmse:950766\tvalidation_1-rmse:1.03504e+07\n",
      "[32]\tvalidation_0-rmse:922492\tvalidation_1-rmse:1.03513e+07\n",
      "[33]\tvalidation_0-rmse:905888\tvalidation_1-rmse:1.03525e+07\n",
      "[34]\tvalidation_0-rmse:892303\tvalidation_1-rmse:1.03457e+07\n",
      "[35]\tvalidation_0-rmse:887538\tvalidation_1-rmse:1.03449e+07\n",
      "[36]\tvalidation_0-rmse:879335\tvalidation_1-rmse:1.03496e+07\n",
      "[37]\tvalidation_0-rmse:864780\tvalidation_1-rmse:1.03473e+07\n",
      "[38]\tvalidation_0-rmse:859061\tvalidation_1-rmse:1.03482e+07\n",
      "[39]\tvalidation_0-rmse:851862\tvalidation_1-rmse:1.03475e+07\n",
      "[40]\tvalidation_0-rmse:840632\tvalidation_1-rmse:1.03419e+07\n",
      "[41]\tvalidation_0-rmse:828996\tvalidation_1-rmse:1.03477e+07\n",
      "[42]\tvalidation_0-rmse:825729\tvalidation_1-rmse:1.03492e+07\n",
      "[43]\tvalidation_0-rmse:814982\tvalidation_1-rmse:1.03517e+07\n",
      "[44]\tvalidation_0-rmse:811227\tvalidation_1-rmse:1.03519e+07\n",
      "[45]\tvalidation_0-rmse:807353\tvalidation_1-rmse:1.03527e+07\n",
      "[46]\tvalidation_0-rmse:804035\tvalidation_1-rmse:1.03506e+07\n",
      "[47]\tvalidation_0-rmse:802667\tvalidation_1-rmse:1.03507e+07\n",
      "[48]\tvalidation_0-rmse:790094\tvalidation_1-rmse:1.03511e+07\n",
      "[49]\tvalidation_0-rmse:785639\tvalidation_1-rmse:1.03549e+07\n",
      "[50]\tvalidation_0-rmse:781414\tvalidation_1-rmse:1.03446e+07\n",
      "[51]\tvalidation_0-rmse:771108\tvalidation_1-rmse:1.03449e+07\n",
      "[52]\tvalidation_0-rmse:764554\tvalidation_1-rmse:1.0344e+07\n",
      "[53]\tvalidation_0-rmse:754674\tvalidation_1-rmse:1.03436e+07\n",
      "[54]\tvalidation_0-rmse:751292\tvalidation_1-rmse:1.03418e+07\n",
      "[55]\tvalidation_0-rmse:741530\tvalidation_1-rmse:1.03436e+07\n",
      "[56]\tvalidation_0-rmse:734252\tvalidation_1-rmse:1.0344e+07\n",
      "[57]\tvalidation_0-rmse:729232\tvalidation_1-rmse:1.0345e+07\n",
      "[58]\tvalidation_0-rmse:727245\tvalidation_1-rmse:1.03462e+07\n",
      "[59]\tvalidation_0-rmse:723466\tvalidation_1-rmse:1.03461e+07\n",
      "[60]\tvalidation_0-rmse:719011\tvalidation_1-rmse:1.03469e+07\n",
      "[61]\tvalidation_0-rmse:713082\tvalidation_1-rmse:1.03408e+07\n",
      "[62]\tvalidation_0-rmse:707789\tvalidation_1-rmse:1.03414e+07\n",
      "[63]\tvalidation_0-rmse:699911\tvalidation_1-rmse:1.03409e+07\n",
      "[64]\tvalidation_0-rmse:696829\tvalidation_1-rmse:1.03412e+07\n",
      "[65]\tvalidation_0-rmse:691013\tvalidation_1-rmse:1.03418e+07\n",
      "[66]\tvalidation_0-rmse:687394\tvalidation_1-rmse:1.0342e+07\n",
      "[67]\tvalidation_0-rmse:683686\tvalidation_1-rmse:1.03422e+07\n",
      "[68]\tvalidation_0-rmse:681408\tvalidation_1-rmse:1.03414e+07\n",
      "[69]\tvalidation_0-rmse:679415\tvalidation_1-rmse:1.03441e+07\n",
      "[70]\tvalidation_0-rmse:678146\tvalidation_1-rmse:1.03443e+07\n",
      "[71]\tvalidation_0-rmse:674133\tvalidation_1-rmse:1.03439e+07\n",
      "[72]\tvalidation_0-rmse:672659\tvalidation_1-rmse:1.03448e+07\n",
      "[73]\tvalidation_0-rmse:671253\tvalidation_1-rmse:1.0344e+07\n",
      "[74]\tvalidation_0-rmse:668652\tvalidation_1-rmse:1.0344e+07\n",
      "[75]\tvalidation_0-rmse:665457\tvalidation_1-rmse:1.03443e+07\n",
      "[76]\tvalidation_0-rmse:663936\tvalidation_1-rmse:1.03452e+07\n",
      "[77]\tvalidation_0-rmse:662942\tvalidation_1-rmse:1.03457e+07\n",
      "[78]\tvalidation_0-rmse:661279\tvalidation_1-rmse:1.03457e+07\n",
      "[79]\tvalidation_0-rmse:660345\tvalidation_1-rmse:1.03458e+07\n",
      "[80]\tvalidation_0-rmse:657174\tvalidation_1-rmse:1.03458e+07\n",
      "[81]\tvalidation_0-rmse:654153\tvalidation_1-rmse:1.03458e+07\n",
      "[82]\tvalidation_0-rmse:650662\tvalidation_1-rmse:1.03452e+07\n",
      "[83]\tvalidation_0-rmse:650249\tvalidation_1-rmse:1.03447e+07\n",
      "[84]\tvalidation_0-rmse:649313\tvalidation_1-rmse:1.0345e+07\n",
      "[85]\tvalidation_0-rmse:646943\tvalidation_1-rmse:1.0344e+07\n",
      "[86]\tvalidation_0-rmse:644434\tvalidation_1-rmse:1.03441e+07\n",
      "[87]\tvalidation_0-rmse:643406\tvalidation_1-rmse:1.03448e+07\n",
      "[88]\tvalidation_0-rmse:642876\tvalidation_1-rmse:1.03458e+07\n",
      "[89]\tvalidation_0-rmse:640477\tvalidation_1-rmse:1.03466e+07\n",
      "[90]\tvalidation_0-rmse:639815\tvalidation_1-rmse:1.03466e+07\n",
      "[91]\tvalidation_0-rmse:639064\tvalidation_1-rmse:1.03465e+07\n",
      "[92]\tvalidation_0-rmse:638476\tvalidation_1-rmse:1.03462e+07\n",
      "[93]\tvalidation_0-rmse:636109\tvalidation_1-rmse:1.03463e+07\n",
      "[94]\tvalidation_0-rmse:634960\tvalidation_1-rmse:1.03465e+07\n",
      "[95]\tvalidation_0-rmse:634560\tvalidation_1-rmse:1.03464e+07\n",
      "[96]\tvalidation_0-rmse:634337\tvalidation_1-rmse:1.03464e+07\n",
      "[97]\tvalidation_0-rmse:633954\tvalidation_1-rmse:1.03479e+07\n",
      "[98]\tvalidation_0-rmse:630834\tvalidation_1-rmse:1.0348e+07\n",
      "[99]\tvalidation_0-rmse:627618\tvalidation_1-rmse:1.03476e+07\n",
      "[100]\tvalidation_0-rmse:625642\tvalidation_1-rmse:1.03477e+07\n",
      "[101]\tvalidation_0-rmse:624212\tvalidation_1-rmse:1.03481e+07\n",
      "[102]\tvalidation_0-rmse:623169\tvalidation_1-rmse:1.0348e+07\n",
      "[103]\tvalidation_0-rmse:621409\tvalidation_1-rmse:1.03479e+07\n",
      "[104]\tvalidation_0-rmse:620037\tvalidation_1-rmse:1.0348e+07\n",
      "[105]\tvalidation_0-rmse:616827\tvalidation_1-rmse:1.03483e+07\n",
      "[106]\tvalidation_0-rmse:615860\tvalidation_1-rmse:1.03483e+07\n",
      "[107]\tvalidation_0-rmse:614526\tvalidation_1-rmse:1.03481e+07\n",
      "[108]\tvalidation_0-rmse:614001\tvalidation_1-rmse:1.03481e+07\n",
      "[109]\tvalidation_0-rmse:611744\tvalidation_1-rmse:1.03481e+07\n",
      "[110]\tvalidation_0-rmse:609590\tvalidation_1-rmse:1.03483e+07\n",
      "[111]\tvalidation_0-rmse:607852\tvalidation_1-rmse:1.03485e+07\n",
      "Stopping. Best iteration:\n",
      "[61]\tvalidation_0-rmse:713082\tvalidation_1-rmse:1.03408e+07\n",
      "\n"
     ]
    },
    {
     "data": {
      "text/plain": [
       "XGBRegressor(base_score=0.5, booster='gbtree', colsample_bylevel=1,\n",
       "             colsample_bynode=1, colsample_bytree=1, gamma=0,\n",
       "             importance_type='gain', learning_rate=0.5, max_delta_step=0,\n",
       "             max_depth=7, min_child_weight=1, missing=None, n_estimators=1000,\n",
       "             n_jobs=-2, nthread=None, objective='reg:squarederror',\n",
       "             random_state=0, reg_alpha=0, reg_lambda=1, scale_pos_weight=1,\n",
       "             seed=None, silent=None, subsample=1, verbosity=1)"
      ]
     },
     "execution_count": 29,
     "metadata": {},
     "output_type": "execute_result"
    }
   ],
   "source": [
    "encoder = ce.OrdinalEncoder()\n",
    "X_train_encoded = encoder.fit_transform(X_train)\n",
    "X_val_encoded = encoder.transform(X_val)\n",
    "\n",
    "model = XGBRegressor(\n",
    "    objective='reg:squarederror',\n",
    "    n_estimators=1000, # <= 1000 trees, depends on early stopping\n",
    "    max_depth=7,       # try deeper trees because of high cardinality categoricals\n",
    "    learning_rate=0.5, # try higher learning rate\n",
    "    n_jobs=-2\n",
    ")\n",
    "\n",
    "eval_set = [(X_train_encoded, y_train), \n",
    "            (X_val_encoded, y_val)]\n",
    "\n",
    "model.fit(X_train_encoded, y_train, \n",
    "          eval_set=eval_set, \n",
    "          eval_metric='rmse', \n",
    "          early_stopping_rounds=50)"
   ]
  },
  {
   "cell_type": "code",
   "execution_count": null,
   "metadata": {},
   "outputs": [],
   "source": []
  }
 ],
 "metadata": {
  "colab": {
   "collapsed_sections": [],
   "name": "assignment_applied_modeling_2.ipynb",
   "provenance": [],
   "version": "0.3.2"
  },
  "kernelspec": {
   "display_name": "Python 3",
   "language": "python",
   "name": "python3"
  },
  "language_info": {
   "codemirror_mode": {
    "name": "ipython",
    "version": 3
   },
   "file_extension": ".py",
   "mimetype": "text/x-python",
   "name": "python",
   "nbconvert_exporter": "python",
   "pygments_lexer": "ipython3",
   "version": "3.7.5"
  }
 },
 "nbformat": 4,
 "nbformat_minor": 4
}
